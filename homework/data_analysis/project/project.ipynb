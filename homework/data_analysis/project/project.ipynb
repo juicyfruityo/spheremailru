{
 "cells": [
  {
   "cell_type": "code",
   "execution_count": 93,
   "metadata": {},
   "outputs": [
    {
     "data": {
      "text/html": [
       "<script type=\"text/javascript\">window.PlotlyConfig = {MathJaxConfig: 'local'};</script><script type=\"text/javascript\">if (window.MathJax) {MathJax.Hub.Config({SVG: {font: \"STIX-Web\"}});}</script><script>requirejs.config({paths: { 'plotly': ['https://cdn.plot.ly/plotly-latest.min']},});if(!window._Plotly) {require(['plotly'],function(plotly) {window._Plotly=plotly;});}</script>"
      ],
      "text/vnd.plotly.v1+html": [
       "<script type=\"text/javascript\">window.PlotlyConfig = {MathJaxConfig: 'local'};</script><script type=\"text/javascript\">if (window.MathJax) {MathJax.Hub.Config({SVG: {font: \"STIX-Web\"}});}</script><script>requirejs.config({paths: { 'plotly': ['https://cdn.plot.ly/plotly-latest.min']},});if(!window._Plotly) {require(['plotly'],function(plotly) {window._Plotly=plotly;});}</script>"
      ]
     },
     "metadata": {},
     "output_type": "display_data"
    }
   ],
   "source": [
    "import warnings\n",
    "warnings.filterwarnings('ignore')\n",
    "import matplotlib.pyplot as plt\n",
    "import pandas as pd\n",
    "import seaborn as sns\n",
    "import numpy as np\n",
    "from scipy import stats\n",
    "from scipy.stats import chi2_contingency\n",
    "\n",
    "from plotly.offline import download_plotlyjs, init_notebook_mode, plot, iplot\n",
    "import plotly\n",
    "import plotly.graph_objs as go\n",
    "\n",
    "init_notebook_mode(connected=True)"
   ]
  },
  {
   "cell_type": "markdown",
   "metadata": {},
   "source": [
    "Данные взяты с kaggle https://www.kaggle.com/rush4ratio/video-game-sales-with-ratings\n",
    "\n",
    "В датасете представлены данные о выпущенных играх\n",
    "\n",
    "****Name**** - имя игры \n",
    "\n",
    "****Platform**** - игровая платформа для которой игра была выпущена\n",
    "\n",
    "****Year_of_Realeas**** - год выпуска игры\n",
    "\n",
    "****Genre**** - жанр игры\n",
    "\n",
    "****Publisher**** - компания выпустившая игру\n",
    "\n",
    "****NA_Sales**** - продажи в Северной Америке\n",
    "\n",
    "****EU_Sales**** - продажи в Европе\n",
    "\n",
    "****JP_Sales**** - продажи в Японии\n",
    "\n",
    "****Other_Sales**** - продажи в других местах\n",
    "\n",
    "****Global_Sales**** - продажи по всему миру\n",
    "\n",
    "****Critic_Score**** - оценка игровых критиков\n",
    "\n",
    "****Critic_Count**** - количество критиков, поставивших оценку\n",
    "\n",
    "****User_Score**** - оценка игроков\n",
    "\n",
    "****User_Count**** - количество игроков поставивших оценки\n",
    "\n",
    "****Developer**** - разработчик игры\n",
    "\n",
    "****Rating**** - возрастной рейтинг\n",
    "\n",
    "Данные об оценках критиков и игроков взяты с сайта https://www.metacritic.com/game"
   ]
  },
  {
   "cell_type": "code",
   "execution_count": 94,
   "metadata": {},
   "outputs": [
    {
     "name": "stdout",
     "output_type": "stream",
     "text": [
      "(16719, 16)\n"
     ]
    }
   ],
   "source": [
    "df = pd.read_csv('Video_Games_Sales_as_at_22_Dec_2016.csv')\n",
    "print(df.shape)"
   ]
  },
  {
   "cell_type": "code",
   "execution_count": 29,
   "metadata": {},
   "outputs": [
    {
     "data": {
      "text/html": [
       "<div>\n",
       "<style scoped>\n",
       "    .dataframe tbody tr th:only-of-type {\n",
       "        vertical-align: middle;\n",
       "    }\n",
       "\n",
       "    .dataframe tbody tr th {\n",
       "        vertical-align: top;\n",
       "    }\n",
       "\n",
       "    .dataframe thead th {\n",
       "        text-align: right;\n",
       "    }\n",
       "</style>\n",
       "<table border=\"1\" class=\"dataframe\">\n",
       "  <thead>\n",
       "    <tr style=\"text-align: right;\">\n",
       "      <th></th>\n",
       "      <th>Year_of_Release</th>\n",
       "      <th>NA_Sales</th>\n",
       "      <th>EU_Sales</th>\n",
       "      <th>JP_Sales</th>\n",
       "      <th>Other_Sales</th>\n",
       "      <th>Global_Sales</th>\n",
       "      <th>Critic_Score</th>\n",
       "      <th>Critic_Count</th>\n",
       "      <th>User_Count</th>\n",
       "    </tr>\n",
       "  </thead>\n",
       "  <tbody>\n",
       "    <tr>\n",
       "      <th>count</th>\n",
       "      <td>16450.000000</td>\n",
       "      <td>16719.000000</td>\n",
       "      <td>16719.000000</td>\n",
       "      <td>16719.000000</td>\n",
       "      <td>16719.000000</td>\n",
       "      <td>16719.000000</td>\n",
       "      <td>8137.000000</td>\n",
       "      <td>8137.000000</td>\n",
       "      <td>7590.000000</td>\n",
       "    </tr>\n",
       "    <tr>\n",
       "      <th>mean</th>\n",
       "      <td>2006.487356</td>\n",
       "      <td>0.263330</td>\n",
       "      <td>0.145025</td>\n",
       "      <td>0.077602</td>\n",
       "      <td>0.047332</td>\n",
       "      <td>0.533543</td>\n",
       "      <td>68.967679</td>\n",
       "      <td>26.360821</td>\n",
       "      <td>162.229908</td>\n",
       "    </tr>\n",
       "    <tr>\n",
       "      <th>std</th>\n",
       "      <td>5.878995</td>\n",
       "      <td>0.813514</td>\n",
       "      <td>0.503283</td>\n",
       "      <td>0.308818</td>\n",
       "      <td>0.186710</td>\n",
       "      <td>1.547935</td>\n",
       "      <td>13.938165</td>\n",
       "      <td>18.980495</td>\n",
       "      <td>561.282326</td>\n",
       "    </tr>\n",
       "    <tr>\n",
       "      <th>min</th>\n",
       "      <td>1980.000000</td>\n",
       "      <td>0.000000</td>\n",
       "      <td>0.000000</td>\n",
       "      <td>0.000000</td>\n",
       "      <td>0.000000</td>\n",
       "      <td>0.010000</td>\n",
       "      <td>13.000000</td>\n",
       "      <td>3.000000</td>\n",
       "      <td>4.000000</td>\n",
       "    </tr>\n",
       "    <tr>\n",
       "      <th>25%</th>\n",
       "      <td>2003.000000</td>\n",
       "      <td>0.000000</td>\n",
       "      <td>0.000000</td>\n",
       "      <td>0.000000</td>\n",
       "      <td>0.000000</td>\n",
       "      <td>0.060000</td>\n",
       "      <td>60.000000</td>\n",
       "      <td>12.000000</td>\n",
       "      <td>10.000000</td>\n",
       "    </tr>\n",
       "    <tr>\n",
       "      <th>50%</th>\n",
       "      <td>2007.000000</td>\n",
       "      <td>0.080000</td>\n",
       "      <td>0.020000</td>\n",
       "      <td>0.000000</td>\n",
       "      <td>0.010000</td>\n",
       "      <td>0.170000</td>\n",
       "      <td>71.000000</td>\n",
       "      <td>21.000000</td>\n",
       "      <td>24.000000</td>\n",
       "    </tr>\n",
       "    <tr>\n",
       "      <th>75%</th>\n",
       "      <td>2010.000000</td>\n",
       "      <td>0.240000</td>\n",
       "      <td>0.110000</td>\n",
       "      <td>0.040000</td>\n",
       "      <td>0.030000</td>\n",
       "      <td>0.470000</td>\n",
       "      <td>79.000000</td>\n",
       "      <td>36.000000</td>\n",
       "      <td>81.000000</td>\n",
       "    </tr>\n",
       "    <tr>\n",
       "      <th>max</th>\n",
       "      <td>2020.000000</td>\n",
       "      <td>41.360000</td>\n",
       "      <td>28.960000</td>\n",
       "      <td>10.220000</td>\n",
       "      <td>10.570000</td>\n",
       "      <td>82.530000</td>\n",
       "      <td>98.000000</td>\n",
       "      <td>113.000000</td>\n",
       "      <td>10665.000000</td>\n",
       "    </tr>\n",
       "  </tbody>\n",
       "</table>\n",
       "</div>"
      ],
      "text/plain": [
       "       Year_of_Release      NA_Sales      EU_Sales      JP_Sales  \\\n",
       "count     16450.000000  16719.000000  16719.000000  16719.000000   \n",
       "mean       2006.487356      0.263330      0.145025      0.077602   \n",
       "std           5.878995      0.813514      0.503283      0.308818   \n",
       "min        1980.000000      0.000000      0.000000      0.000000   \n",
       "25%        2003.000000      0.000000      0.000000      0.000000   \n",
       "50%        2007.000000      0.080000      0.020000      0.000000   \n",
       "75%        2010.000000      0.240000      0.110000      0.040000   \n",
       "max        2020.000000     41.360000     28.960000     10.220000   \n",
       "\n",
       "        Other_Sales  Global_Sales  Critic_Score  Critic_Count    User_Count  \n",
       "count  16719.000000  16719.000000   8137.000000   8137.000000   7590.000000  \n",
       "mean       0.047332      0.533543     68.967679     26.360821    162.229908  \n",
       "std        0.186710      1.547935     13.938165     18.980495    561.282326  \n",
       "min        0.000000      0.010000     13.000000      3.000000      4.000000  \n",
       "25%        0.000000      0.060000     60.000000     12.000000     10.000000  \n",
       "50%        0.010000      0.170000     71.000000     21.000000     24.000000  \n",
       "75%        0.030000      0.470000     79.000000     36.000000     81.000000  \n",
       "max       10.570000     82.530000     98.000000    113.000000  10665.000000  "
      ]
     },
     "execution_count": 29,
     "metadata": {},
     "output_type": "execute_result"
    }
   ],
   "source": [
    "df.describe()"
   ]
  },
  {
   "cell_type": "code",
   "execution_count": 30,
   "metadata": {
    "scrolled": true
   },
   "outputs": [
    {
     "name": "stdout",
     "output_type": "stream",
     "text": [
      "<class 'pandas.core.frame.DataFrame'>\n",
      "RangeIndex: 16719 entries, 0 to 16718\n",
      "Data columns (total 16 columns):\n",
      "Name               16717 non-null object\n",
      "Platform           16719 non-null object\n",
      "Year_of_Release    16450 non-null float64\n",
      "Genre              16717 non-null object\n",
      "Publisher          16665 non-null object\n",
      "NA_Sales           16719 non-null float64\n",
      "EU_Sales           16719 non-null float64\n",
      "JP_Sales           16719 non-null float64\n",
      "Other_Sales        16719 non-null float64\n",
      "Global_Sales       16719 non-null float64\n",
      "Critic_Score       8137 non-null float64\n",
      "Critic_Count       8137 non-null float64\n",
      "User_Score         10015 non-null object\n",
      "User_Count         7590 non-null float64\n",
      "Developer          10096 non-null object\n",
      "Rating             9950 non-null object\n",
      "dtypes: float64(9), object(7)\n",
      "memory usage: 2.0+ MB\n"
     ]
    }
   ],
   "source": [
    "df.info()"
   ]
  },
  {
   "cell_type": "markdown",
   "metadata": {},
   "source": [
    "Видно что есть очень много пропусков в оценках игроков и критиков, также ****User_Score**** помечен как object, изменим его на float."
   ]
  },
  {
   "cell_type": "code",
   "execution_count": 95,
   "metadata": {},
   "outputs": [],
   "source": [
    "df['User_Score'] = pd.to_numeric(df['User_Score'], errors='coerce')"
   ]
  },
  {
   "cell_type": "markdown",
   "metadata": {},
   "source": [
    "На мой взгялд не так важно количество критиков и игроков, оценивших игру (плюс эти поля с большим количество пропусков).\n",
    "\n",
    "Также я считаю, что компания, выпустившая игру (****Publisher****), важнее компании, её разработавшую (****Developer****), т.к. чаще всего компании-разработчики это часть компании которая эту игру выпустила.Возможно я ошибаюсь, и там более запутанные связи, но для простоты понимания, я всё же отброшу ****Developer****, дальше буду говоря \"разработчик\" иметь ввиду компанию, опубликовавшую это игру."
   ]
  },
  {
   "cell_type": "code",
   "execution_count": 96,
   "metadata": {},
   "outputs": [],
   "source": [
    "df = df.drop(['User_Count', 'Critic_Count', 'Developer'], axis=1)"
   ]
  },
  {
   "cell_type": "markdown",
   "metadata": {},
   "source": [
    "Стоит заметить так же что у нас присутствуют игры \"выпущенные\" в 2017 и 2020 годах, тогда как датасет собирался в 2016. Скорее все это данные о предзаказах этих игр, которые по моему мнению не имеют интереса."
   ]
  },
  {
   "cell_type": "code",
   "execution_count": 97,
   "metadata": {},
   "outputs": [],
   "source": [
    "df = df.drop(df[df['Year_of_Release'] > 2016.0].index)"
   ]
  },
  {
   "cell_type": "code",
   "execution_count": null,
   "metadata": {},
   "outputs": [],
   "source": []
  },
  {
   "cell_type": "markdown",
   "metadata": {},
   "source": [
    "***Об исследовании:***\n",
    "\n",
    "Цель исследования будет состоять в том, чтобы посмотреть как выглядит рынок игровой индустрии. \n",
    "\n",
    "***1. ***Какие общие черты присущи средним по объему выпущенных игр компаниям. \n",
    "\n",
    "***2. ***Поискать особенности среди компаний, игровых жанров, рынков реализации игр.\n",
    "\n",
    "***3. ***Также посмотреть в каких областях \"большие\" компании не так распространены, а основную часть рынка занимают \"средние\".\n",
    "\n",
    "Попытаюсь позамечать какие-то дополнительные инсайты по ходу дела."
   ]
  },
  {
   "cell_type": "code",
   "execution_count": null,
   "metadata": {},
   "outputs": [],
   "source": []
  },
  {
   "cell_type": "markdown",
   "metadata": {},
   "source": [
    "Вначале банально посмотрим на какие-то основные характеристики и основыне зависимости, котоыре первые приходят в голову.\n",
    "\n",
    "Первое - продажи и количество релизов по годам."
   ]
  },
  {
   "cell_type": "code",
   "execution_count": 34,
   "metadata": {},
   "outputs": [
    {
     "data": {
      "text/plain": [
       "Text(2015,400,'')"
      ]
     },
     "execution_count": 34,
     "metadata": {},
     "output_type": "execute_result"
    },
    {
     "data": {
      "image/png": "[encoded data removed]",
      "text/plain": [
       "<Figure size 1008x360 with 2 Axes>"
      ]
     },
     "metadata": {},
     "output_type": "display_data"
    }
   ],
   "source": [
    "games = df['Year_of_Release'].value_counts().sort_index()\n",
    "sales = df.groupby(by='Year_of_Release')['Global_Sales'].sum()\n",
    "\n",
    "fig = plt.figure(figsize= (14,5))\n",
    "ax1 = fig.add_subplot(121)\n",
    "ax2 = fig.add_subplot(122)\n",
    "\n",
    "ax1.plot(games)\n",
    "ax1.set_title('Количество выпущенных игр')\n",
    "ax2.plot(sales)\n",
    "ax2.set_title('Количество проданных копий')\n",
    "\n",
    "ax1.annotate('', xy=(2015, 630), xytext=(2015, 800),\n",
    "            arrowprops=dict(facecolor='black'),\n",
    "            )\n",
    "ax2.annotate('', xy=(2015, 300), xytext=(2015, 400),\n",
    "            arrowprops=dict(facecolor='black'),\n",
    "            )"
   ]
  },
  {
   "cell_type": "markdown",
   "metadata": {},
   "source": [
    "Как видно - изначально спрос на игры рос вместе с количеством выпускаемых игр, но после 2009 игры стали продаваться меньше, возможно это связано с кризисом и уменьшением покупательской способности. Также можно заметить, то что игровая индустрия делала попытку оживиться в 2015 году, но спрос всё так же падает, что говорит о том что люди скорее всего находят другие способы развлечения. "
   ]
  },
  {
   "cell_type": "markdown",
   "metadata": {},
   "source": [
    "Дальше взглянем на то какике результаты показывают топ10 компаний."
   ]
  },
  {
   "cell_type": "code",
   "execution_count": 36,
   "metadata": {},
   "outputs": [
    {
     "data": {
      "text/plain": [
       "Text(0.5,1,'Количество выпущенных игр')"
      ]
     },
     "execution_count": 36,
     "metadata": {},
     "output_type": "execute_result"
    },
    {
     "data": {
      "image/png": "[encoded data removed]",
      "text/plain": [
       "<Figure size 792x360 with 1 Axes>"
      ]
     },
     "metadata": {},
     "output_type": "display_data"
    }
   ],
   "source": [
    "x = df['Publisher'].value_counts()[:10]\n",
    "\n",
    "plt.rcParams['font.size'] = 13 \n",
    "\n",
    "fig = plt.figure(figsize=(11,5))\n",
    "\n",
    "ax = x.plot.bar(rot=70, width=0.4)\n",
    "ax.annotate('Top 10 компаний = 8215 (' + str(round(8210/16650 * 100)) + \"%)\" + '\\n'\n",
    "            + 'Другие компании = 8450 (' + str(round(8450/16650 * 100)) + \"%)\",\n",
    "            xy=(4,1100))\n",
    "ax.set_title('Количество выпущенных игр')"
   ]
  },
  {
   "cell_type": "code",
   "execution_count": 38,
   "metadata": {},
   "outputs": [
    {
     "data": {
      "text/plain": [
       "Text(0.5,1,'Количество проданных копий')"
      ]
     },
     "execution_count": 38,
     "metadata": {},
     "output_type": "execute_result"
    },
    {
     "data": {
      "image/png": "[encoded data removed]",
      "text/plain": [
       "<Figure size 792x360 with 1 Axes>"
      ]
     },
     "metadata": {},
     "output_type": "display_data"
    }
   ],
   "source": [
    "sales = df.groupby(by='Publisher')['Global_Sales'].sum().sort_values(ascending=False)[:10]\n",
    "fig = plt.figure(figsize=(11,5))\n",
    "ax = sales.plot(kind='bar', rot=70)\n",
    "ax.annotate('Top 10 команий = 6264 (70%) \\n'\n",
    "            + 'Другие компании = 2641 (30%)', xy=(4, 1200))\n",
    "ax.set_title('Количество проданных копий')"
   ]
  },
  {
   "cell_type": "markdown",
   "metadata": {},
   "source": [
    "Интуитивно понятно что компании с самым большим количеством выпущенных игр имеют больше всех продаж. Но можно заметить, что большинство этих компаний на превом графике примерно выпустили одинаковое количество игр ~ около ****800****, в то время как на втором графике различие в продажах сильно заметно."
   ]
  },
  {
   "cell_type": "markdown",
   "metadata": {},
   "source": [
    "Посмотрим как скореллированы признаки"
   ]
  },
  {
   "cell_type": "code",
   "execution_count": 39,
   "metadata": {},
   "outputs": [
    {
     "data": {
      "text/plain": [
       "<matplotlib.axes._subplots.AxesSubplot at 0x7f8532151278>"
      ]
     },
     "execution_count": 39,
     "metadata": {},
     "output_type": "execute_result"
    },
    {
     "data": {
      "image/png": "[encoded data removed]",
      "text/plain": [
       "<Figure size 1008x504 with 2 Axes>"
      ]
     },
     "metadata": {},
     "output_type": "display_data"
    }
   ],
   "source": [
    "df_corr = df.drop(['Name', 'Platform', 'Genre', \n",
    "                   'Publisher', 'Rating'], axis=1)\n",
    "fig = plt.figure(figsize= (14,7))\n",
    "sns.heatmap(df_corr.dropna().corr(), \n",
    "            xticklabels = df_corr.columns.values,\n",
    "            yticklabels = df_corr.columns.values, \n",
    "            cmap = 'Blues')"
   ]
  },
  {
   "cell_type": "markdown",
   "metadata": {},
   "source": [
    "Интересное замечание, что оценка критиков и игроков не очень сильно влияет на продажи игры. Плюс видно, что продажи в Японии меньше кореллируют с продажми в остальных частях света, что говорит нам об особенностях Японского рынка.\n",
    "\n",
    "Также год выпуска игры никак не связан с продажами, поэтому можно предположить, что игровая индустрия это не инертный рынок. Это вытекает также из того, что выше мы видели как резко поднимается и опускается спрос на игры, но при этом компании умеют быстро подстраиваться под количество спроса. И графики продаж и выпускаемых игр почти повторяют друг друга."
   ]
  },
  {
   "cell_type": "markdown",
   "metadata": {},
   "source": [
    "Узнаем кто более строг в оценивании игр"
   ]
  },
  {
   "cell_type": "code",
   "execution_count": 43,
   "metadata": {},
   "outputs": [
    {
     "data": {
      "text/plain": [
       "<matplotlib.axes._subplots.AxesSubplot at 0x7f852d1cc780>"
      ]
     },
     "execution_count": 43,
     "metadata": {},
     "output_type": "execute_result"
    },
    {
     "data": {
      "image/png": "[encoded data removed]",
      "text/plain": [
       "<Figure size 432x432 with 3 Axes>"
      ]
     },
     "metadata": {},
     "output_type": "display_data"
    }
   ],
   "source": [
    "ax = sns.jointplot(x='User_Score', y='Critic_Score', data=df, color='red', kind = 'hex')\n",
    "sns.regplot(df.User_Score, df.Critic_Score, ax=ax.ax_joint, scatter=False, color='black')"
   ]
  },
  {
   "cell_type": "markdown",
   "metadata": {},
   "source": [
    "Таким образом критики, как ни странно, снисходительнее к издателям игр и чаще ставят высокие оценки"
   ]
  },
  {
   "cell_type": "markdown",
   "metadata": {},
   "source": [
    "#### Сейчас перейдём к конкретному рассмотрению.\n",
    "\n",
    "Посмотрим какие жанры захватили \"большие\" компании (буду считать для определенности, что это топ20 компаний по объему продаж, средние это следующие 300 компаний), для каких игровых платформ они чаще всего разрабатывают игры, и в каких годах они имели особый успех."
   ]
  },
  {
   "cell_type": "code",
   "execution_count": 6,
   "metadata": {},
   "outputs": [],
   "source": [
    "df_top_names = pd.DataFrame(df.groupby(by='Publisher')['Global_Sales'].sum().sort_values(ascending=False)[:20])\n",
    "df_top = df.loc[df.Publisher.isin(df_top_names.index)]\n",
    "\n",
    "df_middle_names = pd.DataFrame(df.groupby(by='Publisher')['Global_Sales'].sum().sort_values(ascending=False)[20:320])\n",
    "df_middle = df.loc[df.Publisher.isin(df_middle_names.index)]"
   ]
  },
  {
   "cell_type": "markdown",
   "metadata": {},
   "source": [
    "Соотношение по жанрам."
   ]
  },
  {
   "cell_type": "code",
   "execution_count": 7,
   "metadata": {},
   "outputs": [],
   "source": [
    "df_top_genre = pd.DataFrame(df_top.groupby(by='Genre')['Global_Sales'].sum().sort_values(ascending=False))\n",
    "df_middle_genre = pd.DataFrame(df_middle.groupby(by='Genre')['Global_Sales'].sum().sort_values(ascending=False))\n",
    "\n",
    "df_together = pd.merge(df_top_genre, df_middle_genre, on='Genre')\n",
    "df_together['Percent'] = df_together.Global_Sales_y / df_together.Global_Sales_x"
   ]
  },
  {
   "cell_type": "code",
   "execution_count": 8,
   "metadata": {
    "scrolled": true
   },
   "outputs": [
    {
     "data": {
      "application/vnd.plotly.v1+json": {
       "data": [
        {
         "name": "Global Sales by top20",
         "type": "bar",
         "uid": "b7a27e6a-7f54-4a33-9c7c-ac74c1e598d6",
         "x": [
          "Action",
          "Sports",
          "Shooter",
          "Platform",
          "Role-Playing",
          "Misc",
          "Racing",
          "Fighting",
          "Simulation",
          "Puzzle",
          "Adventure",
          "Strategy"
         ],
         "y": [
          1526.4599999999866,
          1191.8099999999883,
          959.3299999999983,
          758.4899999999985,
          744.2399999999978,
          657.1599999999983,
          600.9899999999989,
          369.5499999999995,
          314.029999999999,
          194.36000000000016,
          170.66000000000037,
          135.10000000000036
         ]
        },
        {
         "name": "Global Sales by middle companies",
         "type": "bar",
         "uid": "6e9d5529-e16e-4e22-9baa-6ea1714cde3f",
         "x": [
          "Action",
          "Role-Playing",
          "Sports",
          "Misc",
          "Racing",
          "Shooter",
          "Simulation",
          "Fighting",
          "Platform",
          "Adventure",
          "Puzzle",
          "Strategy"
         ],
         "y": [
          215.5600000000009,
          187.8200000000004,
          136.24000000000052,
          135.21000000000006,
          127.13000000000008,
          91.55999999999997,
          74.39999999999986,
          73.94999999999995,
          68.55999999999992,
          63.17000000000028,
          47.39000000000006,
          37.64000000000008
         ]
        },
        {
         "cells": {
          "height": 40,
          "values": [
           [
            "Action",
            "Sports",
            "Shooter",
            "Platform",
            "Role-Playing",
            "Misc",
            "Racing",
            "Fighting",
            "Simulation",
            "Puzzle",
            "Adventure",
            "Strategy"
           ],
           [
            0.1412156230756147,
            0.11431352312868817,
            0.0954416102905154,
            0.0903901172065552,
            0.25236482854993136,
            0.2057489804613799,
            0.21153430173547033,
            0.2001082397510487,
            0.23692003948667356,
            0.2438258901008439,
            0.37015117778038287,
            0.2786084381939303
           ]
          ]
         },
         "domain": {
          "x": [
           0.5,
           1
          ],
          "y": [
           0.5,
           1
          ]
         },
         "header": {
          "values": [
           "Genre",
           "Percent"
          ]
         },
         "name": "Соотношение продаж",
         "type": "table",
         "uid": "714dcdc7-c932-43d7-8fff-c735115e6943"
        }
       ],
       "layout": {
        "title": "Соотношение по жанрам"
       }
      },
      "text/html": [
       "<div id=\"4d11971e-e2ae-4e03-ba17-75a8680c9a82\" style=\"height: 525px; width: 100%;\" class=\"plotly-graph-div\"></div><script type=\"text/javascript\">require([\"plotly\"], function(Plotly) { window.PLOTLYENV=window.PLOTLYENV || {};window.PLOTLYENV.BASE_URL=\"https://plot.ly\";Plotly.newPlot(\"4d11971e-e2ae-4e03-ba17-75a8680c9a82\", [{\"name\": \"Global Sales by top20\", \"x\": [\"Action\", \"Sports\", \"Shooter\", \"Platform\", \"Role-Playing\", \"Misc\", \"Racing\", \"Fighting\", \"Simulation\", \"Puzzle\", \"Adventure\", \"Strategy\"], \"y\": [1526.4599999999866, 1191.8099999999883, 959.3299999999983, 758.4899999999985, 744.2399999999978, 657.1599999999983, 600.9899999999989, 369.5499999999995, 314.029999999999, 194.36000000000016, 170.66000000000037, 135.10000000000036], \"type\": \"bar\", \"uid\": \"b7a27e6a-7f54-4a33-9c7c-ac74c1e598d6\"}, {\"name\": \"Global Sales by middle companies\", \"x\": [\"Action\", \"Role-Playing\", \"Sports\", \"Misc\", \"Racing\", \"Shooter\", \"Simulation\", \"Fighting\", \"Platform\", \"Adventure\", \"Puzzle\", \"Strategy\"], \"y\": [215.5600000000009, 187.8200000000004, 136.24000000000052, 135.21000000000006, 127.13000000000008, 91.55999999999997, 74.39999999999986, 73.94999999999995, 68.55999999999992, 63.17000000000028, 47.39000000000006, 37.64000000000008], \"type\": \"bar\", \"uid\": \"6e9d5529-e16e-4e22-9baa-6ea1714cde3f\"}, {\"cells\": {\"height\": 40, \"values\": [[\"Action\", \"Sports\", \"Shooter\", \"Platform\", \"Role-Playing\", \"Misc\", \"Racing\", \"Fighting\", \"Simulation\", \"Puzzle\", \"Adventure\", \"Strategy\"], [0.1412156230756147, 0.11431352312868817, 0.0954416102905154, 0.0903901172065552, 0.25236482854993136, 0.2057489804613799, 0.21153430173547033, 0.2001082397510487, 0.23692003948667356, 0.2438258901008439, 0.37015117778038287, 0.2786084381939303]]}, \"domain\": {\"x\": [0.5, 1], \"y\": [0.5, 1]}, \"header\": {\"values\": [\"Genre\", \"Percent\"]}, \"name\": \"\\u0421\\u043e\\u043e\\u0442\\u043d\\u043e\\u0448\\u0435\\u043d\\u0438\\u0435 \\u043f\\u0440\\u043e\\u0434\\u0430\\u0436\", \"type\": \"table\", \"uid\": \"714dcdc7-c932-43d7-8fff-c735115e6943\"}], {\"title\": \"\\u0421\\u043e\\u043e\\u0442\\u043d\\u043e\\u0448\\u0435\\u043d\\u0438\\u0435 \\u043f\\u043e \\u0436\\u0430\\u043d\\u0440\\u0430\\u043c\"}, {\"showLink\": false, \"linkText\": \"Export to plot.ly\"})});</script><script type=\"text/javascript\">window.addEventListener(\"resize\", function(){window._Plotly.Plots.resize(document.getElementById(\"4d11971e-e2ae-4e03-ba17-75a8680c9a82\"));});</script>"
      ],
      "text/vnd.plotly.v1+html": [
       "<div id=\"4d11971e-e2ae-4e03-ba17-75a8680c9a82\" style=\"height: 525px; width: 100%;\" class=\"plotly-graph-div\"></div><script type=\"text/javascript\">require([\"plotly\"], function(Plotly) { window.PLOTLYENV=window.PLOTLYENV || {};window.PLOTLYENV.BASE_URL=\"https://plot.ly\";Plotly.newPlot(\"4d11971e-e2ae-4e03-ba17-75a8680c9a82\", [{\"name\": \"Global Sales by top20\", \"x\": [\"Action\", \"Sports\", \"Shooter\", \"Platform\", \"Role-Playing\", \"Misc\", \"Racing\", \"Fighting\", \"Simulation\", \"Puzzle\", \"Adventure\", \"Strategy\"], \"y\": [1526.4599999999866, 1191.8099999999883, 959.3299999999983, 758.4899999999985, 744.2399999999978, 657.1599999999983, 600.9899999999989, 369.5499999999995, 314.029999999999, 194.36000000000016, 170.66000000000037, 135.10000000000036], \"type\": \"bar\", \"uid\": \"b7a27e6a-7f54-4a33-9c7c-ac74c1e598d6\"}, {\"name\": \"Global Sales by middle companies\", \"x\": [\"Action\", \"Role-Playing\", \"Sports\", \"Misc\", \"Racing\", \"Shooter\", \"Simulation\", \"Fighting\", \"Platform\", \"Adventure\", \"Puzzle\", \"Strategy\"], \"y\": [215.5600000000009, 187.8200000000004, 136.24000000000052, 135.21000000000006, 127.13000000000008, 91.55999999999997, 74.39999999999986, 73.94999999999995, 68.55999999999992, 63.17000000000028, 47.39000000000006, 37.64000000000008], \"type\": \"bar\", \"uid\": \"6e9d5529-e16e-4e22-9baa-6ea1714cde3f\"}, {\"cells\": {\"height\": 40, \"values\": [[\"Action\", \"Sports\", \"Shooter\", \"Platform\", \"Role-Playing\", \"Misc\", \"Racing\", \"Fighting\", \"Simulation\", \"Puzzle\", \"Adventure\", \"Strategy\"], [0.1412156230756147, 0.11431352312868817, 0.0954416102905154, 0.0903901172065552, 0.25236482854993136, 0.2057489804613799, 0.21153430173547033, 0.2001082397510487, 0.23692003948667356, 0.2438258901008439, 0.37015117778038287, 0.2786084381939303]]}, \"domain\": {\"x\": [0.5, 1], \"y\": [0.5, 1]}, \"header\": {\"values\": [\"Genre\", \"Percent\"]}, \"name\": \"\\u0421\\u043e\\u043e\\u0442\\u043d\\u043e\\u0448\\u0435\\u043d\\u0438\\u0435 \\u043f\\u0440\\u043e\\u0434\\u0430\\u0436\", \"type\": \"table\", \"uid\": \"714dcdc7-c932-43d7-8fff-c735115e6943\"}], {\"title\": \"\\u0421\\u043e\\u043e\\u0442\\u043d\\u043e\\u0448\\u0435\\u043d\\u0438\\u0435 \\u043f\\u043e \\u0436\\u0430\\u043d\\u0440\\u0430\\u043c\"}, {\"showLink\": false, \"linkText\": \"Export to plot.ly\"})});</script><script type=\"text/javascript\">window.addEventListener(\"resize\", function(){window._Plotly.Plots.resize(document.getElementById(\"4d11971e-e2ae-4e03-ba17-75a8680c9a82\"));});</script>"
      ]
     },
     "metadata": {},
     "output_type": "display_data"
    }
   ],
   "source": [
    "trace1 = go.Bar(\n",
    "    x=df_top_genre.index,\n",
    "    y=df_top_genre.Global_Sales,\n",
    "    name='Global Sales by top20'\n",
    ")\n",
    "\n",
    "trace2 = go.Bar(\n",
    "    x=df_middle_genre.index,\n",
    "    y=df_middle_genre.Global_Sales,\n",
    "    name='Global Sales by middle companies')\n",
    "\n",
    "trace_table = go.Table(\n",
    "    header=dict(values=['Genre', 'Percent']),\n",
    "    cells=dict(values=[df_together.index, df_together.Percent],\n",
    "               height=40),\n",
    "    domain=dict(x=[0.5, 1],\n",
    "                y=[0.5, 1]),\n",
    "    name='Соотношение продаж')\n",
    "\n",
    "data = [trace1, trace2, trace_table]\n",
    "layout = {'title': 'Соотношение по жанрам'}\n",
    "\n",
    "fig = go.Figure(data=data, layout=layout)\n",
    "iplot(fig, show_link=False)"
   ]
  },
  {
   "cell_type": "markdown",
   "metadata": {},
   "source": [
    "В таблице приведены отношения объемов продаж в зависимости от жанра.\n",
    "\n",
    "Отсюда сразу можно увидеть как жанры распределены по популярности. Следующее замечание: что закономерно - большие компании максимально заняли самые популярные жанры. Но не всё так ужасно, средние комании всё ещё занимают важное место в таких жанрах как: ****Role-Playing****, ****Simulation****, ****Puzzle****, ****Adventure**** и ****Strategy****.\n",
    "\n",
    "Плюсом средние компании \"обжились\" примерно одинаково во всех жанрах, не выделяется каких-то особенных, сильно отличающихся по продажам от других."
   ]
  },
  {
   "cell_type": "markdown",
   "metadata": {},
   "source": [
    "Аналогично посмотрим на связь с игровыми платформами"
   ]
  },
  {
   "cell_type": "code",
   "execution_count": 75,
   "metadata": {},
   "outputs": [],
   "source": [
    "df_top_platform = pd.DataFrame(df_top.groupby(by='Platform')['Global_Sales'].sum().sort_values(ascending=False))\n",
    "df_middle_platform = pd.DataFrame(df_middle.groupby(by='Platform')['Global_Sales'].sum().sort_values(ascending=False))\n",
    "\n",
    "df_together = pd.merge(df_top_platform, df_middle_platform, on='Platform')\n",
    "df_together['Percent'] = df_together.Global_Sales_y / df_together.Global_Sales_x"
   ]
  },
  {
   "cell_type": "code",
   "execution_count": 77,
   "metadata": {},
   "outputs": [
    {
     "data": {
      "application/vnd.plotly.v1+json": {
       "data": [
        {
         "name": "Global Sales by top20",
         "type": "bar",
         "uid": "1a8c4ab1-1295-4ee0-a914-5c6f51f2e670",
         "x": [
          "PS2",
          "X360",
          "PS3",
          "Wii",
          "DS",
          "PS",
          "PS4",
          "GBA",
          "PSP",
          "GB",
          "3DS",
          "XB",
          "NES",
          "PC",
          "N64",
          "GC",
          "XOne",
          "SNES",
          "WiiU",
          "2600",
          "PSV",
          "SAT",
          "GEN",
          "DC",
          "SCD",
          "WS",
          "3DO",
          "GG"
         ],
         "y": [
          1055.1999999999916,
          901.1600000000005,
          855.5700000000003,
          810.2500000000006,
          691.219999999996,
          483.86999999999927,
          284.16999999999945,
          260.80999999999966,
          254.01000000000067,
          246.8999999999999,
          228.51000000000013,
          226.29000000000042,
          226.26999999999984,
          207.4800000000006,
          180.61999999999992,
          180.2300000000004,
          153.41000000000003,
          131.69,
          81.37000000000003,
          69.90999999999997,
          33.49000000000004,
          22.66999999999998,
          19.64,
          14.809999999999995,
          1.8700000000000003,
          0.66,
          0.06,
          0.04
         ]
        },
        {
         "name": "Global Sales by middle companies",
         "type": "bar",
         "uid": "ca6568a8-5437-4a34-887b-63a082c5de89",
         "x": [
          "PS",
          "PS2",
          "DS",
          "Wii",
          "PS3",
          "X360",
          "SNES",
          "PC",
          "GBA",
          "PSP",
          "N64",
          "XB",
          "3DS",
          "PS4",
          "2600",
          "NES",
          "PSV",
          "GC",
          "GEN",
          "SAT",
          "GB",
          "XOne",
          "NG",
          "DC",
          "WiiU",
          "WS",
          "TG16",
          "PCFX"
         ],
         "y": [
          241.42000000000044,
          194.67000000000044,
          112.92999999999994,
          96.72999999999992,
          82.70000000000003,
          69.65999999999997,
          67.49999999999997,
          49.85000000000012,
          49.24000000000003,
          38.21000000000022,
          37.999999999999986,
          31.45,
          30.040000000000006,
          28.900000000000006,
          26.739999999999988,
          24.740000000000006,
          19.830000000000098,
          18.909999999999997,
          10.999999999999998,
          10.049999999999997,
          8.55,
          5.689999999999999,
          1.4200000000000004,
          1.08,
          0.7900000000000003,
          0.76,
          0.16,
          0.03
         ]
        },
        {
         "cells": {
          "height": 40,
          "values": [
           [
            "PS2",
            "X360",
            "PS3",
            "Wii",
            "DS",
            "PS",
            "PS4",
            "GBA",
            "PSP",
            "GB",
            "3DS",
            "XB",
            "NES",
            "PC",
            "N64",
            "GC",
            "XOne",
            "SNES",
            "WiiU",
            "2600",
            "PSV",
            "SAT",
            "GEN",
            "DC",
            "WS"
           ],
           [
            0.18448635329795487,
            0.07730036841404404,
            0.09666070572834486,
            0.11938290651033613,
            0.1633777957813729,
            0.4989356645379974,
            0.1016996868071931,
            0.18879644185422376,
            0.15042714853745962,
            0.034629404617253966,
            0.13146032996367768,
            0.13898095364355448,
            0.10933840102532383,
            0.2402641218430691,
            0.21038644668364523,
            0.10492148920823367,
            0.03709015057688546,
            0.5125673931202064,
            0.009708737864077669,
            0.38249177513946503,
            0.5921170498656337,
            0.4433171592412883,
            0.5600814663951119,
            0.07292370020256586,
            1.1515151515151514
           ]
          ]
         },
         "domain": {
          "x": [
           0.5,
           1
          ],
          "y": [
           0.5,
           1
          ]
         },
         "header": {
          "values": [
           "Platform",
           "Percent"
          ]
         },
         "type": "table",
         "uid": "1a625c6d-eef9-4ebb-8b8a-245982deed3e"
        }
       ],
       "layout": {
        "title": "Соотношение по платформам"
       }
      },
      "text/html": [
       "<div id=\"38504eb1-0009-486e-ac7c-9aa9593dee76\" style=\"height: 525px; width: 100%;\" class=\"plotly-graph-div\"></div><script type=\"text/javascript\">require([\"plotly\"], function(Plotly) { window.PLOTLYENV=window.PLOTLYENV || {};window.PLOTLYENV.BASE_URL=\"https://plot.ly\";Plotly.newPlot(\"38504eb1-0009-486e-ac7c-9aa9593dee76\", [{\"name\": \"Global Sales by top20\", \"x\": [\"PS2\", \"X360\", \"PS3\", \"Wii\", \"DS\", \"PS\", \"PS4\", \"GBA\", \"PSP\", \"GB\", \"3DS\", \"XB\", \"NES\", \"PC\", \"N64\", \"GC\", \"XOne\", \"SNES\", \"WiiU\", \"2600\", \"PSV\", \"SAT\", \"GEN\", \"DC\", \"SCD\", \"WS\", \"3DO\", \"GG\"], \"y\": [1055.1999999999916, 901.1600000000005, 855.5700000000003, 810.2500000000006, 691.219999999996, 483.86999999999927, 284.16999999999945, 260.80999999999966, 254.01000000000067, 246.8999999999999, 228.51000000000013, 226.29000000000042, 226.26999999999984, 207.4800000000006, 180.61999999999992, 180.2300000000004, 153.41000000000003, 131.69, 81.37000000000003, 69.90999999999997, 33.49000000000004, 22.66999999999998, 19.64, 14.809999999999995, 1.8700000000000003, 0.66, 0.06, 0.04], \"type\": \"bar\", \"uid\": \"1a8c4ab1-1295-4ee0-a914-5c6f51f2e670\"}, {\"name\": \"Global Sales by middle companies\", \"x\": [\"PS\", \"PS2\", \"DS\", \"Wii\", \"PS3\", \"X360\", \"SNES\", \"PC\", \"GBA\", \"PSP\", \"N64\", \"XB\", \"3DS\", \"PS4\", \"2600\", \"NES\", \"PSV\", \"GC\", \"GEN\", \"SAT\", \"GB\", \"XOne\", \"NG\", \"DC\", \"WiiU\", \"WS\", \"TG16\", \"PCFX\"], \"y\": [241.42000000000044, 194.67000000000044, 112.92999999999994, 96.72999999999992, 82.70000000000003, 69.65999999999997, 67.49999999999997, 49.85000000000012, 49.24000000000003, 38.21000000000022, 37.999999999999986, 31.45, 30.040000000000006, 28.900000000000006, 26.739999999999988, 24.740000000000006, 19.830000000000098, 18.909999999999997, 10.999999999999998, 10.049999999999997, 8.55, 5.689999999999999, 1.4200000000000004, 1.08, 0.7900000000000003, 0.76, 0.16, 0.03], \"type\": \"bar\", \"uid\": \"ca6568a8-5437-4a34-887b-63a082c5de89\"}, {\"cells\": {\"height\": 40, \"values\": [[\"PS2\", \"X360\", \"PS3\", \"Wii\", \"DS\", \"PS\", \"PS4\", \"GBA\", \"PSP\", \"GB\", \"3DS\", \"XB\", \"NES\", \"PC\", \"N64\", \"GC\", \"XOne\", \"SNES\", \"WiiU\", \"2600\", \"PSV\", \"SAT\", \"GEN\", \"DC\", \"WS\"], [0.18448635329795487, 0.07730036841404404, 0.09666070572834486, 0.11938290651033613, 0.1633777957813729, 0.4989356645379974, 0.1016996868071931, 0.18879644185422376, 0.15042714853745962, 0.034629404617253966, 0.13146032996367768, 0.13898095364355448, 0.10933840102532383, 0.2402641218430691, 0.21038644668364523, 0.10492148920823367, 0.03709015057688546, 0.5125673931202064, 0.009708737864077669, 0.38249177513946503, 0.5921170498656337, 0.4433171592412883, 0.5600814663951119, 0.07292370020256586, 1.1515151515151514]]}, \"domain\": {\"x\": [0.5, 1], \"y\": [0.5, 1]}, \"header\": {\"values\": [\"Platform\", \"Percent\"]}, \"type\": \"table\", \"uid\": \"1a625c6d-eef9-4ebb-8b8a-245982deed3e\"}], {\"title\": \"\\u0421\\u043e\\u043e\\u0442\\u043d\\u043e\\u0448\\u0435\\u043d\\u0438\\u0435 \\u043f\\u043e \\u043f\\u043b\\u0430\\u0442\\u0444\\u043e\\u0440\\u043c\\u0430\\u043c\"}, {\"showLink\": false, \"linkText\": \"Export to plot.ly\"})});</script><script type=\"text/javascript\">window.addEventListener(\"resize\", function(){window._Plotly.Plots.resize(document.getElementById(\"38504eb1-0009-486e-ac7c-9aa9593dee76\"));});</script>"
      ],
      "text/vnd.plotly.v1+html": [
       "<div id=\"38504eb1-0009-486e-ac7c-9aa9593dee76\" style=\"height: 525px; width: 100%;\" class=\"plotly-graph-div\"></div><script type=\"text/javascript\">require([\"plotly\"], function(Plotly) { window.PLOTLYENV=window.PLOTLYENV || {};window.PLOTLYENV.BASE_URL=\"https://plot.ly\";Plotly.newPlot(\"38504eb1-0009-486e-ac7c-9aa9593dee76\", [{\"name\": \"Global Sales by top20\", \"x\": [\"PS2\", \"X360\", \"PS3\", \"Wii\", \"DS\", \"PS\", \"PS4\", \"GBA\", \"PSP\", \"GB\", \"3DS\", \"XB\", \"NES\", \"PC\", \"N64\", \"GC\", \"XOne\", \"SNES\", \"WiiU\", \"2600\", \"PSV\", \"SAT\", \"GEN\", \"DC\", \"SCD\", \"WS\", \"3DO\", \"GG\"], \"y\": [1055.1999999999916, 901.1600000000005, 855.5700000000003, 810.2500000000006, 691.219999999996, 483.86999999999927, 284.16999999999945, 260.80999999999966, 254.01000000000067, 246.8999999999999, 228.51000000000013, 226.29000000000042, 226.26999999999984, 207.4800000000006, 180.61999999999992, 180.2300000000004, 153.41000000000003, 131.69, 81.37000000000003, 69.90999999999997, 33.49000000000004, 22.66999999999998, 19.64, 14.809999999999995, 1.8700000000000003, 0.66, 0.06, 0.04], \"type\": \"bar\", \"uid\": \"1a8c4ab1-1295-4ee0-a914-5c6f51f2e670\"}, {\"name\": \"Global Sales by middle companies\", \"x\": [\"PS\", \"PS2\", \"DS\", \"Wii\", \"PS3\", \"X360\", \"SNES\", \"PC\", \"GBA\", \"PSP\", \"N64\", \"XB\", \"3DS\", \"PS4\", \"2600\", \"NES\", \"PSV\", \"GC\", \"GEN\", \"SAT\", \"GB\", \"XOne\", \"NG\", \"DC\", \"WiiU\", \"WS\", \"TG16\", \"PCFX\"], \"y\": [241.42000000000044, 194.67000000000044, 112.92999999999994, 96.72999999999992, 82.70000000000003, 69.65999999999997, 67.49999999999997, 49.85000000000012, 49.24000000000003, 38.21000000000022, 37.999999999999986, 31.45, 30.040000000000006, 28.900000000000006, 26.739999999999988, 24.740000000000006, 19.830000000000098, 18.909999999999997, 10.999999999999998, 10.049999999999997, 8.55, 5.689999999999999, 1.4200000000000004, 1.08, 0.7900000000000003, 0.76, 0.16, 0.03], \"type\": \"bar\", \"uid\": \"ca6568a8-5437-4a34-887b-63a082c5de89\"}, {\"cells\": {\"height\": 40, \"values\": [[\"PS2\", \"X360\", \"PS3\", \"Wii\", \"DS\", \"PS\", \"PS4\", \"GBA\", \"PSP\", \"GB\", \"3DS\", \"XB\", \"NES\", \"PC\", \"N64\", \"GC\", \"XOne\", \"SNES\", \"WiiU\", \"2600\", \"PSV\", \"SAT\", \"GEN\", \"DC\", \"WS\"], [0.18448635329795487, 0.07730036841404404, 0.09666070572834486, 0.11938290651033613, 0.1633777957813729, 0.4989356645379974, 0.1016996868071931, 0.18879644185422376, 0.15042714853745962, 0.034629404617253966, 0.13146032996367768, 0.13898095364355448, 0.10933840102532383, 0.2402641218430691, 0.21038644668364523, 0.10492148920823367, 0.03709015057688546, 0.5125673931202064, 0.009708737864077669, 0.38249177513946503, 0.5921170498656337, 0.4433171592412883, 0.5600814663951119, 0.07292370020256586, 1.1515151515151514]]}, \"domain\": {\"x\": [0.5, 1], \"y\": [0.5, 1]}, \"header\": {\"values\": [\"Platform\", \"Percent\"]}, \"type\": \"table\", \"uid\": \"1a625c6d-eef9-4ebb-8b8a-245982deed3e\"}], {\"title\": \"\\u0421\\u043e\\u043e\\u0442\\u043d\\u043e\\u0448\\u0435\\u043d\\u0438\\u0435 \\u043f\\u043e \\u043f\\u043b\\u0430\\u0442\\u0444\\u043e\\u0440\\u043c\\u0430\\u043c\"}, {\"showLink\": false, \"linkText\": \"Export to plot.ly\"})});</script><script type=\"text/javascript\">window.addEventListener(\"resize\", function(){window._Plotly.Plots.resize(document.getElementById(\"38504eb1-0009-486e-ac7c-9aa9593dee76\"));});</script>"
      ]
     },
     "metadata": {},
     "output_type": "display_data"
    }
   ],
   "source": [
    "trace1 = go.Bar(\n",
    "    x=df_top_platform.index,\n",
    "    y=df_top_platform.Global_Sales,\n",
    "    name='Global Sales by top20'\n",
    ")\n",
    "\n",
    "trace2 = go.Bar(\n",
    "    x=df_middle_platform.index,\n",
    "    y=df_middle_platform.Global_Sales,\n",
    "    name='Global Sales by middle companies')\n",
    "\n",
    "trace_table = go.Table(\n",
    "    header=dict(values=['Platform', 'Percent']),\n",
    "    cells=dict(values=[df_together.index, df_together.Percent],\n",
    "               height=40),\n",
    "    domain=dict(x=[0.5, 1],\n",
    "                y=[0.5, 1]))\n",
    "\n",
    "data = [trace1, trace2, trace_table]\n",
    "layout = {'title': 'Соотношение по платформам'}\n",
    "\n",
    "fig = go.Figure(data=data, layout=layout)\n",
    "iplot(fig, show_link=False)"
   ]
  },
  {
   "cell_type": "markdown",
   "metadata": {},
   "source": [
    "Аналогично здесь самые популярные платформы практически польностью заняты большими компаниями, интересное замечание, что на платформе ****PS**** процент средних компаний больше всего, но это уже устаревшая платформа на наше время, т.е. возможно средние компании имели большой вес в прошлом, когда ещё не была так сильно развита игровая индустрия."
   ]
  },
  {
   "cell_type": "markdown",
   "metadata": {},
   "source": [
    "Посмотрим как изменялись продажи средних и больших компаний со временем."
   ]
  },
  {
   "cell_type": "code",
   "execution_count": 98,
   "metadata": {},
   "outputs": [],
   "source": [
    "df_middle_time = pd.DataFrame(df_middle.groupby('Year_of_Release') \\\n",
    "                              ['Global_Sales'].sum().sort_index(ascending=False))\n",
    "df_top_time = pd.DataFrame(df_top.groupby('Year_of_Release') \\\n",
    "                           ['Global_Sales'].sum().sort_index(ascending=False))"
   ]
  },
  {
   "cell_type": "code",
   "execution_count": 99,
   "metadata": {},
   "outputs": [
    {
     "data": {
      "application/vnd.plotly.v1+json": {
       "data": [
        {
         "name": "Global Sales by middle companies",
         "type": "scatter",
         "uid": "68c43d9e-3535-44ab-9f4a-9fa56ae160f4",
         "x": [
          2016,
          2015,
          2014,
          2013,
          2012,
          2011,
          2010,
          2009,
          2008,
          2007,
          2006,
          2005,
          2004,
          2003,
          2002,
          2001,
          2000,
          1999,
          1998,
          1997,
          1996,
          1995,
          1994,
          1993,
          1992,
          1991,
          1990,
          1989,
          1988,
          1987,
          1986,
          1985,
          1984,
          1983,
          1982,
          1981
         ],
         "y": [
          14.46999999999996,
          27.16000000000004,
          31.280000000000033,
          37.550000000000075,
          28.660000000000014,
          61.170000000000165,
          67.24999999999983,
          85.80999999999997,
          73.80000000000008,
          64.2500000000003,
          36.95000000000008,
          33.48000000000003,
          46.50000000000002,
          58.43999999999998,
          63.60000000000005,
          55.150000000000055,
          40.03000000000001,
          63.51999999999997,
          71.21999999999998,
          67.90999999999993,
          54.289999999999964,
          27.58,
          34.65999999999999,
          15.349999999999996,
          16.27,
          6.100000000000001,
          4.52,
          5.27,
          4.66,
          3.4,
          4.66,
          1.03,
          1.1,
          0.5,
          6.949999999999999,
          18.819999999999993
         ]
        },
        {
         "name": "Global Sales by top20 companies",
         "type": "scatter",
         "uid": "2078055b-3f2d-40cc-8cb0-d705e3ca5346",
         "x": [
          2016,
          2015,
          2014,
          2013,
          2012,
          2011,
          2010,
          2009,
          2008,
          2007,
          2006,
          2005,
          2004,
          2003,
          2002,
          2001,
          2000,
          1999,
          1998,
          1997,
          1996,
          1995,
          1994,
          1993,
          1992,
          1991,
          1990,
          1989,
          1988,
          1987,
          1986,
          1985,
          1984,
          1983,
          1982,
          1981,
          1980
         ],
         "y": [
          114.41000000000008,
          239.71000000000012,
          299.8099999999991,
          322.96999999999946,
          326.10999999999956,
          445.49999999999915,
          521.9400000000003,
          571.7799999999996,
          596.4099999999987,
          537.9099999999964,
          480.1399999999991,
          422.9899999999983,
          366.84999999999917,
          299.17999999999904,
          331.1799999999994,
          275.8699999999995,
          160.87999999999997,
          187.59000000000006,
          183.7600000000001,
          132.05999999999992,
          143.46999999999997,
          59.60999999999999,
          44.220000000000006,
          32.660000000000004,
          59.849999999999994,
          26.130000000000003,
          44.86999999999999,
          68.12,
          42.56,
          18.339999999999996,
          32.410000000000004,
          52.89,
          49.26000000000001,
          16.290000000000003,
          21.689999999999998,
          16.95,
          11.379999999999999
         ]
        }
       ],
       "layout": {
        "title": "Global Sales"
       }
      },
      "text/html": [
       "<div id=\"d2c31478-aa51-47b7-a52a-174b738a771e\" style=\"height: 525px; width: 100%;\" class=\"plotly-graph-div\"></div><script type=\"text/javascript\">require([\"plotly\"], function(Plotly) { window.PLOTLYENV=window.PLOTLYENV || {};window.PLOTLYENV.BASE_URL=\"https://plot.ly\";Plotly.newPlot(\"d2c31478-aa51-47b7-a52a-174b738a771e\", [{\"name\": \"Global Sales by middle companies\", \"x\": [2016.0, 2015.0, 2014.0, 2013.0, 2012.0, 2011.0, 2010.0, 2009.0, 2008.0, 2007.0, 2006.0, 2005.0, 2004.0, 2003.0, 2002.0, 2001.0, 2000.0, 1999.0, 1998.0, 1997.0, 1996.0, 1995.0, 1994.0, 1993.0, 1992.0, 1991.0, 1990.0, 1989.0, 1988.0, 1987.0, 1986.0, 1985.0, 1984.0, 1983.0, 1982.0, 1981.0], \"y\": [14.46999999999996, 27.16000000000004, 31.280000000000033, 37.550000000000075, 28.660000000000014, 61.170000000000165, 67.24999999999983, 85.80999999999997, 73.80000000000008, 64.2500000000003, 36.95000000000008, 33.48000000000003, 46.50000000000002, 58.43999999999998, 63.60000000000005, 55.150000000000055, 40.03000000000001, 63.51999999999997, 71.21999999999998, 67.90999999999993, 54.289999999999964, 27.58, 34.65999999999999, 15.349999999999996, 16.27, 6.100000000000001, 4.52, 5.27, 4.66, 3.4, 4.66, 1.03, 1.1, 0.5, 6.949999999999999, 18.819999999999993], \"type\": \"scatter\", \"uid\": \"68c43d9e-3535-44ab-9f4a-9fa56ae160f4\"}, {\"name\": \"Global Sales by top20 companies\", \"x\": [2016.0, 2015.0, 2014.0, 2013.0, 2012.0, 2011.0, 2010.0, 2009.0, 2008.0, 2007.0, 2006.0, 2005.0, 2004.0, 2003.0, 2002.0, 2001.0, 2000.0, 1999.0, 1998.0, 1997.0, 1996.0, 1995.0, 1994.0, 1993.0, 1992.0, 1991.0, 1990.0, 1989.0, 1988.0, 1987.0, 1986.0, 1985.0, 1984.0, 1983.0, 1982.0, 1981.0, 1980.0], \"y\": [114.41000000000008, 239.71000000000012, 299.8099999999991, 322.96999999999946, 326.10999999999956, 445.49999999999915, 521.9400000000003, 571.7799999999996, 596.4099999999987, 537.9099999999964, 480.1399999999991, 422.9899999999983, 366.84999999999917, 299.17999999999904, 331.1799999999994, 275.8699999999995, 160.87999999999997, 187.59000000000006, 183.7600000000001, 132.05999999999992, 143.46999999999997, 59.60999999999999, 44.220000000000006, 32.660000000000004, 59.849999999999994, 26.130000000000003, 44.86999999999999, 68.12, 42.56, 18.339999999999996, 32.410000000000004, 52.89, 49.26000000000001, 16.290000000000003, 21.689999999999998, 16.95, 11.379999999999999], \"type\": \"scatter\", \"uid\": \"2078055b-3f2d-40cc-8cb0-d705e3ca5346\"}], {\"title\": \"Global Sales\"}, {\"showLink\": false, \"linkText\": \"Export to plot.ly\"})});</script><script type=\"text/javascript\">window.addEventListener(\"resize\", function(){window._Plotly.Plots.resize(document.getElementById(\"d2c31478-aa51-47b7-a52a-174b738a771e\"));});</script>"
      ],
      "text/vnd.plotly.v1+html": [
       "<div id=\"d2c31478-aa51-47b7-a52a-174b738a771e\" style=\"height: 525px; width: 100%;\" class=\"plotly-graph-div\"></div><script type=\"text/javascript\">require([\"plotly\"], function(Plotly) { window.PLOTLYENV=window.PLOTLYENV || {};window.PLOTLYENV.BASE_URL=\"https://plot.ly\";Plotly.newPlot(\"d2c31478-aa51-47b7-a52a-174b738a771e\", [{\"name\": \"Global Sales by middle companies\", \"x\": [2016.0, 2015.0, 2014.0, 2013.0, 2012.0, 2011.0, 2010.0, 2009.0, 2008.0, 2007.0, 2006.0, 2005.0, 2004.0, 2003.0, 2002.0, 2001.0, 2000.0, 1999.0, 1998.0, 1997.0, 1996.0, 1995.0, 1994.0, 1993.0, 1992.0, 1991.0, 1990.0, 1989.0, 1988.0, 1987.0, 1986.0, 1985.0, 1984.0, 1983.0, 1982.0, 1981.0], \"y\": [14.46999999999996, 27.16000000000004, 31.280000000000033, 37.550000000000075, 28.660000000000014, 61.170000000000165, 67.24999999999983, 85.80999999999997, 73.80000000000008, 64.2500000000003, 36.95000000000008, 33.48000000000003, 46.50000000000002, 58.43999999999998, 63.60000000000005, 55.150000000000055, 40.03000000000001, 63.51999999999997, 71.21999999999998, 67.90999999999993, 54.289999999999964, 27.58, 34.65999999999999, 15.349999999999996, 16.27, 6.100000000000001, 4.52, 5.27, 4.66, 3.4, 4.66, 1.03, 1.1, 0.5, 6.949999999999999, 18.819999999999993], \"type\": \"scatter\", \"uid\": \"68c43d9e-3535-44ab-9f4a-9fa56ae160f4\"}, {\"name\": \"Global Sales by top20 companies\", \"x\": [2016.0, 2015.0, 2014.0, 2013.0, 2012.0, 2011.0, 2010.0, 2009.0, 2008.0, 2007.0, 2006.0, 2005.0, 2004.0, 2003.0, 2002.0, 2001.0, 2000.0, 1999.0, 1998.0, 1997.0, 1996.0, 1995.0, 1994.0, 1993.0, 1992.0, 1991.0, 1990.0, 1989.0, 1988.0, 1987.0, 1986.0, 1985.0, 1984.0, 1983.0, 1982.0, 1981.0, 1980.0], \"y\": [114.41000000000008, 239.71000000000012, 299.8099999999991, 322.96999999999946, 326.10999999999956, 445.49999999999915, 521.9400000000003, 571.7799999999996, 596.4099999999987, 537.9099999999964, 480.1399999999991, 422.9899999999983, 366.84999999999917, 299.17999999999904, 331.1799999999994, 275.8699999999995, 160.87999999999997, 187.59000000000006, 183.7600000000001, 132.05999999999992, 143.46999999999997, 59.60999999999999, 44.220000000000006, 32.660000000000004, 59.849999999999994, 26.130000000000003, 44.86999999999999, 68.12, 42.56, 18.339999999999996, 32.410000000000004, 52.89, 49.26000000000001, 16.290000000000003, 21.689999999999998, 16.95, 11.379999999999999], \"type\": \"scatter\", \"uid\": \"2078055b-3f2d-40cc-8cb0-d705e3ca5346\"}], {\"title\": \"Global Sales\"}, {\"showLink\": false, \"linkText\": \"Export to plot.ly\"})});</script><script type=\"text/javascript\">window.addEventListener(\"resize\", function(){window._Plotly.Plots.resize(document.getElementById(\"d2c31478-aa51-47b7-a52a-174b738a771e\"));});</script>"
      ]
     },
     "metadata": {},
     "output_type": "display_data"
    }
   ],
   "source": [
    "trace1 = go.Scatter(\n",
    "    x=df_middle_time.index,\n",
    "    y=df_middle_time.Global_Sales,\n",
    "    name='Global Sales by middle companies'\n",
    ")\n",
    "\n",
    "trace2 = go.Scatter(\n",
    "    x=df_top_time.index,\n",
    "    y=df_top_time.Global_Sales,\n",
    "    name='Global Sales by top20 companies'\n",
    ")\n",
    "\n",
    "layout = {'title': 'Global Sales'}\n",
    "data = [trace1, trace2]\n",
    "\n",
    "fig = go.Figure(data=data, layout=layout)\n",
    "iplot(fig, show_link=False)"
   ]
  },
  {
   "cell_type": "markdown",
   "metadata": {},
   "source": [
    "* Нынешние большие компании это в основном те, которые на рынке с самого его зарождения, это видно по тому как в 80х годах синяя линия около нуля, в то время как желтая явно выше.\n",
    "\n",
    "* Разница начала резко расти в 90ые годы, сложно сказать с чем это могло быть связано, возможно люди открыли для себя новый абсолютно неизведанный способ развлечения. И большие компании оперативно прореагировали на растущий спрос (выше я писал о том что игровой рынок очень гибкий).\n",
    "\n",
    "* Несмотря на огромный скачок и резкое падение продаж больших компаний - средние компании имеют постоянный спрос, который не сильно менялся за последние годы. Может быть средние компании поняли свою аудиторию и максимально нацелены на неё.\n",
    "\n",
    "Возможно самое интересное замечание:\n",
    "\n",
    "* Тут же видно, что в 1995-2000 годах был один из пиков продаж средними компаниями, как раз в 1995 году вышла платформа ****PS****, а в 2000 ****PS2****. Это подтверждается данными выше - платформа ****PS**** самая \"любимая\" у средних компаний. На ум сразу приходит идея о том, что средние компании не смогли вовремя перестроиться с этой платформы на новую платформу ****PS2**** - что сделали большие компании. Это опять же подтвеждается предыдущим графиком - платформа ****PS2**** очень популярна у больших разработчиков. Есть шанс что именно это позволило так сильно оторваться большим компаниям."
   ]
  },
  {
   "cell_type": "markdown",
   "metadata": {},
   "source": [
    "Взглянем на то, кому отдают большее предпочтение люди в разных частях света."
   ]
  },
  {
   "cell_type": "code",
   "execution_count": 83,
   "metadata": {},
   "outputs": [],
   "source": [
    "df_middle_jp = df_middle.JP_Sales.sum()\n",
    "df_top_jp = df_top.JP_Sales.sum()\n",
    "\n",
    "df_top_na = df_top.NA_Sales.sum()\n",
    "df_middle_na = df_middle.NA_Sales.sum()\n",
    "\n",
    "df_top_eu = df_top.EU_Sales.sum()\n",
    "df_middle_eu = df_middle.EU_Sales.sum()\n",
    "\n",
    "df_middle_oth = df_middle.Other_Sales.sum()\n",
    "df_top_oth = df_top.Other_Sales.sum()"
   ]
  },
  {
   "cell_type": "code",
   "execution_count": 84,
   "metadata": {
    "scrolled": true
   },
   "outputs": [
    {
     "data": {
      "application/vnd.plotly.v1+json": {
       "data": [
        {
         "domain": {
          "x": [
           0.45,
           1
          ],
          "y": [
           0.45,
           1
          ]
         },
         "labels": [
          "Top20",
          "Middle comp."
         ],
         "name": "Продажи в Японии",
         "type": "pie",
         "uid": "d3944833-5ed2-4047-bdde-ffae4f34b818",
         "values": [
          990.1999999999999,
          297.38
         ]
        },
        {
         "domain": {
          "x": [
           0,
           0.55
          ],
          "y": [
           0.45,
           1
          ]
         },
         "labels": [
          "Top20",
          "Middle comp."
         ],
         "name": "Продажи в Северной Америке",
         "type": "pie",
         "uid": "db065bb3-f869-4cac-a941-f94cce096935",
         "values": [
          3799.97,
          586.77
         ]
        },
        {
         "domain": {
          "x": [
           0.22,
           0.77
          ],
          "y": [
           0,
           0.55
          ]
         },
         "labels": [
          "Top20",
          "Middle comp."
         ],
         "name": "Продажи в Европе",
         "type": "pie",
         "uid": "6db3413e-3fe5-4284-95a2-b7b90a802681",
         "values": [
          2124.48,
          290.88000000000005
         ]
        },
        {
         "domain": {
          "x": [
           0.8,
           1
          ],
          "y": [
           0,
           0.3
          ]
         },
         "labels": [
          "Top20",
          "Middle comp."
         ],
         "name": "Продажи в других местах",
         "type": "pie",
         "uid": "1d1ffa31-c9e8-4e21-885f-aff1ba60674f",
         "values": [
          705.6700000000002,
          83.97
         ]
        }
       ],
       "layout": {
        "title": "Global Sales"
       }
      },
      "text/html": [
       "<div id=\"b2c8eacc-c8a1-4486-90bd-3d2ad58f9ba1\" style=\"height: 525px; width: 100%;\" class=\"plotly-graph-div\"></div><script type=\"text/javascript\">require([\"plotly\"], function(Plotly) { window.PLOTLYENV=window.PLOTLYENV || {};window.PLOTLYENV.BASE_URL=\"https://plot.ly\";Plotly.newPlot(\"b2c8eacc-c8a1-4486-90bd-3d2ad58f9ba1\", [{\"domain\": {\"x\": [0.45, 1], \"y\": [0.45, 1]}, \"labels\": [\"Top20\", \"Middle comp.\"], \"name\": \"\\u041f\\u0440\\u043e\\u0434\\u0430\\u0436\\u0438 \\u0432 \\u042f\\u043f\\u043e\\u043d\\u0438\\u0438\", \"values\": [990.1999999999999, 297.38], \"type\": \"pie\", \"uid\": \"d3944833-5ed2-4047-bdde-ffae4f34b818\"}, {\"domain\": {\"x\": [0, 0.55], \"y\": [0.45, 1]}, \"labels\": [\"Top20\", \"Middle comp.\"], \"name\": \"\\u041f\\u0440\\u043e\\u0434\\u0430\\u0436\\u0438 \\u0432 \\u0421\\u0435\\u0432\\u0435\\u0440\\u043d\\u043e\\u0439 \\u0410\\u043c\\u0435\\u0440\\u0438\\u043a\\u0435\", \"values\": [3799.97, 586.77], \"type\": \"pie\", \"uid\": \"db065bb3-f869-4cac-a941-f94cce096935\"}, {\"domain\": {\"x\": [0.22, 0.77], \"y\": [0, 0.55]}, \"labels\": [\"Top20\", \"Middle comp.\"], \"name\": \"\\u041f\\u0440\\u043e\\u0434\\u0430\\u0436\\u0438 \\u0432 \\u0415\\u0432\\u0440\\u043e\\u043f\\u0435\", \"values\": [2124.48, 290.88000000000005], \"type\": \"pie\", \"uid\": \"6db3413e-3fe5-4284-95a2-b7b90a802681\"}, {\"domain\": {\"x\": [0.8, 1], \"y\": [0, 0.3]}, \"labels\": [\"Top20\", \"Middle comp.\"], \"name\": \"\\u041f\\u0440\\u043e\\u0434\\u0430\\u0436\\u0438 \\u0432 \\u0434\\u0440\\u0443\\u0433\\u0438\\u0445 \\u043c\\u0435\\u0441\\u0442\\u0430\\u0445\", \"values\": [705.6700000000002, 83.97], \"type\": \"pie\", \"uid\": \"1d1ffa31-c9e8-4e21-885f-aff1ba60674f\"}], {\"title\": \"Global Sales\"}, {\"showLink\": true, \"linkText\": \"Export to plot.ly\"})});</script><script type=\"text/javascript\">window.addEventListener(\"resize\", function(){window._Plotly.Plots.resize(document.getElementById(\"b2c8eacc-c8a1-4486-90bd-3d2ad58f9ba1\"));});</script>"
      ],
      "text/vnd.plotly.v1+html": [
       "<div id=\"b2c8eacc-c8a1-4486-90bd-3d2ad58f9ba1\" style=\"height: 525px; width: 100%;\" class=\"plotly-graph-div\"></div><script type=\"text/javascript\">require([\"plotly\"], function(Plotly) { window.PLOTLYENV=window.PLOTLYENV || {};window.PLOTLYENV.BASE_URL=\"https://plot.ly\";Plotly.newPlot(\"b2c8eacc-c8a1-4486-90bd-3d2ad58f9ba1\", [{\"domain\": {\"x\": [0.45, 1], \"y\": [0.45, 1]}, \"labels\": [\"Top20\", \"Middle comp.\"], \"name\": \"\\u041f\\u0440\\u043e\\u0434\\u0430\\u0436\\u0438 \\u0432 \\u042f\\u043f\\u043e\\u043d\\u0438\\u0438\", \"values\": [990.1999999999999, 297.38], \"type\": \"pie\", \"uid\": \"d3944833-5ed2-4047-bdde-ffae4f34b818\"}, {\"domain\": {\"x\": [0, 0.55], \"y\": [0.45, 1]}, \"labels\": [\"Top20\", \"Middle comp.\"], \"name\": \"\\u041f\\u0440\\u043e\\u0434\\u0430\\u0436\\u0438 \\u0432 \\u0421\\u0435\\u0432\\u0435\\u0440\\u043d\\u043e\\u0439 \\u0410\\u043c\\u0435\\u0440\\u0438\\u043a\\u0435\", \"values\": [3799.97, 586.77], \"type\": \"pie\", \"uid\": \"db065bb3-f869-4cac-a941-f94cce096935\"}, {\"domain\": {\"x\": [0.22, 0.77], \"y\": [0, 0.55]}, \"labels\": [\"Top20\", \"Middle comp.\"], \"name\": \"\\u041f\\u0440\\u043e\\u0434\\u0430\\u0436\\u0438 \\u0432 \\u0415\\u0432\\u0440\\u043e\\u043f\\u0435\", \"values\": [2124.48, 290.88000000000005], \"type\": \"pie\", \"uid\": \"6db3413e-3fe5-4284-95a2-b7b90a802681\"}, {\"domain\": {\"x\": [0.8, 1], \"y\": [0, 0.3]}, \"labels\": [\"Top20\", \"Middle comp.\"], \"name\": \"\\u041f\\u0440\\u043e\\u0434\\u0430\\u0436\\u0438 \\u0432 \\u0434\\u0440\\u0443\\u0433\\u0438\\u0445 \\u043c\\u0435\\u0441\\u0442\\u0430\\u0445\", \"values\": [705.6700000000002, 83.97], \"type\": \"pie\", \"uid\": \"1d1ffa31-c9e8-4e21-885f-aff1ba60674f\"}], {\"title\": \"Global Sales\"}, {\"showLink\": true, \"linkText\": \"Export to plot.ly\"})});</script><script type=\"text/javascript\">window.addEventListener(\"resize\", function(){window._Plotly.Plots.resize(document.getElementById(\"b2c8eacc-c8a1-4486-90bd-3d2ad58f9ba1\"));});</script>"
      ]
     },
     "metadata": {},
     "output_type": "display_data"
    }
   ],
   "source": [
    "trace1 = go.Pie(labels=['Top20', 'Middle comp.'], \n",
    "               values=[df_top_jp, df_middle_jp],\n",
    "               domain=dict(x=[0.45, 1],\n",
    "                           y=[0.45, 1]),\n",
    "               name='Продажи в Японии'\n",
    "              )\n",
    "trace2 = go.Pie(labels=['Top20', 'Middle comp.'], \n",
    "               values=[df_top_na, df_middle_na],\n",
    "               domain=dict(x=[0, 0.55],\n",
    "                           y=[0.45, 1]),\n",
    "               name='Продажи в Северной Америке'\n",
    "              )\n",
    "trace3 = go.Pie(labels=['Top20', 'Middle comp.'], \n",
    "               values=[df_top_eu, df_middle_eu],\n",
    "               domain=dict(x=[0.22, 0.77],\n",
    "                           y=[0, 0.55]),\n",
    "               name='Продажи в Европе'\n",
    "              )\n",
    "trace4 = go.Pie(labels=['Top20', 'Middle comp.'], \n",
    "               values=[df_top_oth, df_middle_oth],\n",
    "               domain=dict(x=[0.8, 1],\n",
    "                           y=[0, 0.3]),\n",
    "               name='Продажи в других местах'\n",
    "              )\n",
    "\n",
    "\n",
    "data = [trace1, trace2, trace3, trace4]\n",
    "\n",
    "fig = go.Figure(data=data, layout=layout)\n",
    "iplot(fig)"
   ]
  },
  {
   "cell_type": "markdown",
   "metadata": {},
   "source": [
    "Япония больше других предпочитает менее известных разработчиков, сложно усмотреть какую-то зависимость, возможно среди средних компаний присутствует немало из Японии."
   ]
  },
  {
   "cell_type": "markdown",
   "metadata": {},
   "source": [
    "Резюмируя промежуточные данные:\n",
    "\n",
    "1. В целом топ20 компании заняли все части игровой индустрии, в особенности самые распространеённые (Action, Sports, Shooter), но несмотря на это оставшиеся компании всё ещё могут побороться с такими же небольшими компаниями за свою аудиторию в следующих жанрах: ****Role-Playing****, ****Simulation****, ****Puzzle****, ****Adventure**** и ****Strategy****. \n",
    "\n",
    "2. Также средние разработчики неплохо чувствовали себя в разработке под платформу ***PS***, но не открылись новой игровой платформе, из-за чего скорее всего и проиграли большим компаниям.\n",
    "\n",
    "3. Имеет смысл посомтреть в сторону игрового рынка Японии, в силу того что там меньше продаж имеют крупные компании, можно попытаться поконкурировать с равными разработчиками.\n",
    "\n",
    "4. Игровой рынок уже поделён между старыми крупными компаниями, но заметное уменьшение интереса к их продуктам может дать возможности для роста небольшим компаниям со свежими идеями, которые смогут привнести чего-то нового в эту сферу."
   ]
  },
  {
   "cell_type": "markdown",
   "metadata": {},
   "source": [
    "Дальше попытаемся поискать какие-то отдельные особенности."
   ]
  },
  {
   "cell_type": "markdown",
   "metadata": {},
   "source": [
    "Интуитивно кажется, что самые успешные компании это те, которые выпустили немного игр, но сделали много продаж.\n",
    "Посмотрим, на то как выглядят такие компании, может быть существует какой-то общий секрет их успеха."
   ]
  },
  {
   "cell_type": "code",
   "execution_count": 46,
   "metadata": {},
   "outputs": [],
   "source": [
    "sales = pd.DataFrame(df.groupby(by='Publisher')['Global_Sales'].sum().sort_values(ascending=False))\n",
    "\n",
    "relese = pd.DataFrame(data=df['Publisher'].value_counts())\n",
    "relese = relese.rename(columns={'Publisher': 'Games'})\n",
    "relese['Publisher'] = relese.index\n",
    "\n",
    "df_companies = pd.merge(sales, relese, on='Publisher')\n",
    "df_companies['sale_per_game'] = df_companies.Global_Sales / df_companies.Games\n",
    "df_companies = df_companies.sort_values(by='sale_per_game', ascending=False)"
   ]
  },
  {
   "cell_type": "code",
   "execution_count": 49,
   "metadata": {
    "scrolled": true
   },
   "outputs": [
    {
     "data": {
      "application/vnd.plotly.v1+json": {
       "data": [
        {
         "marker": {
          "color": [
           4.17,
           2.62,
           2.533725212464586,
           2.36,
           2.25,
           2.17,
           1.7,
           1.7,
           1.5580000000000003,
           1.55,
           1.3001047120418854,
           1.205,
           1.2,
           1.1300000000000001,
           1.1246666666666658
          ],
          "colorscale": "Reds"
         },
         "type": "bar",
         "uid": "33d58504-3612-46f0-93cb-53fffb0e3373",
         "x": [
          "Palcom",
          "Red Orb",
          "Nintendo",
          "Arena Entertainment",
          "UEP Systems",
          "RedOctane",
          "Valve",
          "Hello Games",
          "Sony Computer Entertainment Europe",
          "Westwood Studios",
          "Microsoft Game Studios",
          "Imagic",
          "Black Label Games",
          "Maxis",
          "Enix Corporation"
         ],
         "y": [
          4.17,
          2.62,
          2.533725212464586,
          2.36,
          2.25,
          2.17,
          1.7,
          1.7,
          1.5580000000000003,
          1.55,
          1.3001047120418854,
          1.205,
          1.2,
          1.1300000000000001,
          1.1246666666666658
         ]
        }
       ],
       "layout": {
        "title": "Top компании по количеству продаж на одну игру"
       }
      },
      "text/html": [
       "<div id=\"b7468c52-fef2-4065-a38d-d4d83bc537a5\" style=\"height: 525px; width: 100%;\" class=\"plotly-graph-div\"></div><script type=\"text/javascript\">require([\"plotly\"], function(Plotly) { window.PLOTLYENV=window.PLOTLYENV || {};window.PLOTLYENV.BASE_URL=\"https://plot.ly\";Plotly.newPlot(\"b7468c52-fef2-4065-a38d-d4d83bc537a5\", [{\"marker\": {\"color\": [4.17, 2.62, 2.533725212464586, 2.36, 2.25, 2.17, 1.7, 1.7, 1.5580000000000003, 1.55, 1.3001047120418854, 1.205, 1.2, 1.1300000000000001, 1.1246666666666658], \"colorscale\": \"Reds\"}, \"x\": [\"Palcom\", \"Red Orb\", \"Nintendo\", \"Arena Entertainment\", \"UEP Systems\", \"RedOctane\", \"Valve\", \"Hello Games\", \"Sony Computer Entertainment Europe\", \"Westwood Studios\", \"Microsoft Game Studios\", \"Imagic\", \"Black Label Games\", \"Maxis\", \"Enix Corporation\"], \"y\": [4.17, 2.62, 2.533725212464586, 2.36, 2.25, 2.17, 1.7, 1.7, 1.5580000000000003, 1.55, 1.3001047120418854, 1.205, 1.2, 1.1300000000000001, 1.1246666666666658], \"type\": \"bar\", \"uid\": \"33d58504-3612-46f0-93cb-53fffb0e3373\"}], {\"title\": \"Top \\u043a\\u043e\\u043c\\u043f\\u0430\\u043d\\u0438\\u0438 \\u043f\\u043e \\u043a\\u043e\\u043b\\u0438\\u0447\\u0435\\u0441\\u0442\\u0432\\u0443 \\u043f\\u0440\\u043e\\u0434\\u0430\\u0436 \\u043d\\u0430 \\u043e\\u0434\\u043d\\u0443 \\u0438\\u0433\\u0440\\u0443\"}, {\"showLink\": true, \"linkText\": \"Export to plot.ly\"})});</script><script type=\"text/javascript\">window.addEventListener(\"resize\", function(){window._Plotly.Plots.resize(document.getElementById(\"b7468c52-fef2-4065-a38d-d4d83bc537a5\"));});</script>"
      ],
      "text/vnd.plotly.v1+html": [
       "<div id=\"b7468c52-fef2-4065-a38d-d4d83bc537a5\" style=\"height: 525px; width: 100%;\" class=\"plotly-graph-div\"></div><script type=\"text/javascript\">require([\"plotly\"], function(Plotly) { window.PLOTLYENV=window.PLOTLYENV || {};window.PLOTLYENV.BASE_URL=\"https://plot.ly\";Plotly.newPlot(\"b7468c52-fef2-4065-a38d-d4d83bc537a5\", [{\"marker\": {\"color\": [4.17, 2.62, 2.533725212464586, 2.36, 2.25, 2.17, 1.7, 1.7, 1.5580000000000003, 1.55, 1.3001047120418854, 1.205, 1.2, 1.1300000000000001, 1.1246666666666658], \"colorscale\": \"Reds\"}, \"x\": [\"Palcom\", \"Red Orb\", \"Nintendo\", \"Arena Entertainment\", \"UEP Systems\", \"RedOctane\", \"Valve\", \"Hello Games\", \"Sony Computer Entertainment Europe\", \"Westwood Studios\", \"Microsoft Game Studios\", \"Imagic\", \"Black Label Games\", \"Maxis\", \"Enix Corporation\"], \"y\": [4.17, 2.62, 2.533725212464586, 2.36, 2.25, 2.17, 1.7, 1.7, 1.5580000000000003, 1.55, 1.3001047120418854, 1.205, 1.2, 1.1300000000000001, 1.1246666666666658], \"type\": \"bar\", \"uid\": \"33d58504-3612-46f0-93cb-53fffb0e3373\"}], {\"title\": \"Top \\u043a\\u043e\\u043c\\u043f\\u0430\\u043d\\u0438\\u0438 \\u043f\\u043e \\u043a\\u043e\\u043b\\u0438\\u0447\\u0435\\u0441\\u0442\\u0432\\u0443 \\u043f\\u0440\\u043e\\u0434\\u0430\\u0436 \\u043d\\u0430 \\u043e\\u0434\\u043d\\u0443 \\u0438\\u0433\\u0440\\u0443\"}, {\"showLink\": true, \"linkText\": \"Export to plot.ly\"})});</script><script type=\"text/javascript\">window.addEventListener(\"resize\", function(){window._Plotly.Plots.resize(document.getElementById(\"b7468c52-fef2-4065-a38d-d4d83bc537a5\"));});</script>"
      ]
     },
     "metadata": {},
     "output_type": "display_data"
    },
    {
     "data": {
      "application/vnd.plotly.v1+json": {
       "data": [
        {
         "cells": {
          "fill": {
           "color": "#F8E2E2"
          },
          "height": 40,
          "values": [
           [
            "Palcom",
            "Red Orb",
            "Nintendo",
            "Arena Entertainment",
            "UEP Systems",
            "RedOctane",
            "Valve",
            "Hello Games",
            "Sony Computer Entertainment Europe",
            "Westwood Studios",
            "Microsoft Game Studios",
            "Imagic",
            "Black Label Games",
            "Maxis",
            "Enix Corporation"
           ],
           [
            4.17,
            5.24,
            1788.8099999999977,
            4.72,
            2.25,
            8.68,
            1.7,
            1.7,
            23.370000000000005,
            1.55,
            248.3200000000001,
            4.82,
            1.2,
            3.39,
            33.739999999999974
           ],
           [
            1,
            2,
            706,
            2,
            1,
            4,
            1,
            1,
            15,
            1,
            191,
            4,
            1,
            3,
            30
           ],
           [
            4.17,
            2.62,
            2.533725212464586,
            2.36,
            2.25,
            2.17,
            1.7,
            1.7,
            1.5580000000000003,
            1.55,
            1.3001047120418854,
            1.205,
            1.2,
            1.1300000000000001,
            1.1246666666666658
           ]
          ]
         },
         "domain": {
          "x": [
           0,
           1
          ],
          "y": [
           0,
           1
          ]
         },
         "header": {
          "fill": {
           "color": "#F0C2C2"
          },
          "values": [
           "Publisher",
           "Global_Sales",
           "Games",
           "sale_per_game"
          ]
         },
         "type": "table",
         "uid": "b739de4a-5558-4ea4-a620-23f218b4fe73"
        }
       ],
       "layout": {}
      },
      "text/html": [
       "<div id=\"6f32fbb1-f3d1-45ef-be50-aeb186d930eb\" style=\"height: 525px; width: 100%;\" class=\"plotly-graph-div\"></div><script type=\"text/javascript\">require([\"plotly\"], function(Plotly) { window.PLOTLYENV=window.PLOTLYENV || {};window.PLOTLYENV.BASE_URL=\"https://plot.ly\";Plotly.newPlot(\"6f32fbb1-f3d1-45ef-be50-aeb186d930eb\", [{\"cells\": {\"fill\": {\"color\": \"#F8E2E2\"}, \"height\": 40, \"values\": [[\"Palcom\", \"Red Orb\", \"Nintendo\", \"Arena Entertainment\", \"UEP Systems\", \"RedOctane\", \"Valve\", \"Hello Games\", \"Sony Computer Entertainment Europe\", \"Westwood Studios\", \"Microsoft Game Studios\", \"Imagic\", \"Black Label Games\", \"Maxis\", \"Enix Corporation\"], [4.17, 5.24, 1788.8099999999977, 4.72, 2.25, 8.68, 1.7, 1.7, 23.370000000000005, 1.55, 248.3200000000001, 4.82, 1.2, 3.39, 33.739999999999974], [1, 2, 706, 2, 1, 4, 1, 1, 15, 1, 191, 4, 1, 3, 30], [4.17, 2.62, 2.533725212464586, 2.36, 2.25, 2.17, 1.7, 1.7, 1.5580000000000003, 1.55, 1.3001047120418854, 1.205, 1.2, 1.1300000000000001, 1.1246666666666658]]}, \"domain\": {\"x\": [0, 1], \"y\": [0, 1]}, \"header\": {\"fill\": {\"color\": \"#F0C2C2\"}, \"values\": [\"Publisher\", \"Global_Sales\", \"Games\", \"sale_per_game\"]}, \"type\": \"table\", \"uid\": \"b739de4a-5558-4ea4-a620-23f218b4fe73\"}], {}, {\"showLink\": true, \"linkText\": \"Export to plot.ly\"})});</script><script type=\"text/javascript\">window.addEventListener(\"resize\", function(){window._Plotly.Plots.resize(document.getElementById(\"6f32fbb1-f3d1-45ef-be50-aeb186d930eb\"));});</script>"
      ],
      "text/vnd.plotly.v1+html": [
       "<div id=\"6f32fbb1-f3d1-45ef-be50-aeb186d930eb\" style=\"height: 525px; width: 100%;\" class=\"plotly-graph-div\"></div><script type=\"text/javascript\">require([\"plotly\"], function(Plotly) { window.PLOTLYENV=window.PLOTLYENV || {};window.PLOTLYENV.BASE_URL=\"https://plot.ly\";Plotly.newPlot(\"6f32fbb1-f3d1-45ef-be50-aeb186d930eb\", [{\"cells\": {\"fill\": {\"color\": \"#F8E2E2\"}, \"height\": 40, \"values\": [[\"Palcom\", \"Red Orb\", \"Nintendo\", \"Arena Entertainment\", \"UEP Systems\", \"RedOctane\", \"Valve\", \"Hello Games\", \"Sony Computer Entertainment Europe\", \"Westwood Studios\", \"Microsoft Game Studios\", \"Imagic\", \"Black Label Games\", \"Maxis\", \"Enix Corporation\"], [4.17, 5.24, 1788.8099999999977, 4.72, 2.25, 8.68, 1.7, 1.7, 23.370000000000005, 1.55, 248.3200000000001, 4.82, 1.2, 3.39, 33.739999999999974], [1, 2, 706, 2, 1, 4, 1, 1, 15, 1, 191, 4, 1, 3, 30], [4.17, 2.62, 2.533725212464586, 2.36, 2.25, 2.17, 1.7, 1.7, 1.5580000000000003, 1.55, 1.3001047120418854, 1.205, 1.2, 1.1300000000000001, 1.1246666666666658]]}, \"domain\": {\"x\": [0, 1], \"y\": [0, 1]}, \"header\": {\"fill\": {\"color\": \"#F0C2C2\"}, \"values\": [\"Publisher\", \"Global_Sales\", \"Games\", \"sale_per_game\"]}, \"type\": \"table\", \"uid\": \"b739de4a-5558-4ea4-a620-23f218b4fe73\"}], {}, {\"showLink\": true, \"linkText\": \"Export to plot.ly\"})});</script><script type=\"text/javascript\">window.addEventListener(\"resize\", function(){window._Plotly.Plots.resize(document.getElementById(\"6f32fbb1-f3d1-45ef-be50-aeb186d930eb\"));});</script>"
      ]
     },
     "metadata": {},
     "output_type": "display_data"
    }
   ],
   "source": [
    "trace = go.Bar(\n",
    "    x=df_companies['Publisher'][:15],\n",
    "    y=df_companies['sale_per_game'][:15],\n",
    "    marker=dict(\n",
    "        color=df_companies['sale_per_game'][:15],\n",
    "        colorscale = 'Reds')\n",
    ")\n",
    "\n",
    "trace_table = go.Table(\n",
    "    header=dict(values=df_companies.columns,\n",
    "                fill = dict(color='#F0C2C2')),\n",
    "    cells=dict(values=[df_companies.Publisher[:15], df_companies.Global_Sales[:15],\n",
    "                       df_companies['Games'][:15], df_companies.sale_per_game[:15]],\n",
    "               fill = dict(color='#F8E2E2'),\n",
    "               height=40),\n",
    "    domain=dict(x=[0, 1],\n",
    "                y=[0, 1]))\n",
    "\n",
    "data = [trace]\n",
    "layout = go.Layout(\n",
    "    title='Top компании по количеству продаж на одну игру'\n",
    ")\n",
    "\n",
    "fig = go.Figure(data=data, layout=layout)\n",
    "iplot(fig)\n",
    "\n",
    "data = [trace_table]\n",
    "fig = go.Figure(data=data)\n",
    "iplot(fig)"
   ]
  },
  {
   "cell_type": "markdown",
   "metadata": {},
   "source": [
    "Сразу можно заметить интересную вещь - большинство этих компаний имеют 1-4 выпущенных игры за всё время, рассмотрим их более подробно."
   ]
  },
  {
   "cell_type": "code",
   "execution_count": 9,
   "metadata": {},
   "outputs": [
    {
     "data": {
      "text/html": [
       "<div>\n",
       "<style scoped>\n",
       "    .dataframe tbody tr th:only-of-type {\n",
       "        vertical-align: middle;\n",
       "    }\n",
       "\n",
       "    .dataframe tbody tr th {\n",
       "        vertical-align: top;\n",
       "    }\n",
       "\n",
       "    .dataframe thead th {\n",
       "        text-align: right;\n",
       "    }\n",
       "</style>\n",
       "<table border=\"1\" class=\"dataframe\">\n",
       "  <thead>\n",
       "    <tr style=\"text-align: right;\">\n",
       "      <th></th>\n",
       "      <th>Name</th>\n",
       "      <th>Platform</th>\n",
       "      <th>Year_of_Release</th>\n",
       "      <th>Genre</th>\n",
       "      <th>Publisher</th>\n",
       "      <th>NA_Sales</th>\n",
       "      <th>EU_Sales</th>\n",
       "      <th>JP_Sales</th>\n",
       "      <th>Other_Sales</th>\n",
       "      <th>Global_Sales</th>\n",
       "      <th>Critic_Score</th>\n",
       "      <th>User_Score</th>\n",
       "      <th>Rating</th>\n",
       "    </tr>\n",
       "  </thead>\n",
       "  <tbody>\n",
       "    <tr>\n",
       "      <th>196</th>\n",
       "      <td>Guitar Hero II</td>\n",
       "      <td>PS2</td>\n",
       "      <td>2006.0</td>\n",
       "      <td>Misc</td>\n",
       "      <td>RedOctane</td>\n",
       "      <td>3.81</td>\n",
       "      <td>0.63</td>\n",
       "      <td>0.00</td>\n",
       "      <td>0.68</td>\n",
       "      <td>5.12</td>\n",
       "      <td>92.0</td>\n",
       "      <td>8.5</td>\n",
       "      <td>T</td>\n",
       "    </tr>\n",
       "    <tr>\n",
       "      <th>279</th>\n",
       "      <td>Teenage Mutant Ninja Turtles</td>\n",
       "      <td>NES</td>\n",
       "      <td>1989.0</td>\n",
       "      <td>Action</td>\n",
       "      <td>Palcom</td>\n",
       "      <td>3.38</td>\n",
       "      <td>0.44</td>\n",
       "      <td>0.31</td>\n",
       "      <td>0.04</td>\n",
       "      <td>4.17</td>\n",
       "      <td>NaN</td>\n",
       "      <td>NaN</td>\n",
       "      <td>NaN</td>\n",
       "    </tr>\n",
       "    <tr>\n",
       "      <th>521</th>\n",
       "      <td>Myst</td>\n",
       "      <td>PC</td>\n",
       "      <td>1994.0</td>\n",
       "      <td>Adventure</td>\n",
       "      <td>Red Orb</td>\n",
       "      <td>0.02</td>\n",
       "      <td>2.79</td>\n",
       "      <td>0.00</td>\n",
       "      <td>0.00</td>\n",
       "      <td>2.81</td>\n",
       "      <td>NaN</td>\n",
       "      <td>NaN</td>\n",
       "      <td>NaN</td>\n",
       "    </tr>\n",
       "    <tr>\n",
       "      <th>637</th>\n",
       "      <td>Riven: The Sequel to Myst</td>\n",
       "      <td>PC</td>\n",
       "      <td>1997.0</td>\n",
       "      <td>Adventure</td>\n",
       "      <td>Red Orb</td>\n",
       "      <td>1.52</td>\n",
       "      <td>0.82</td>\n",
       "      <td>0.00</td>\n",
       "      <td>0.10</td>\n",
       "      <td>2.43</td>\n",
       "      <td>83.0</td>\n",
       "      <td>NaN</td>\n",
       "      <td>E</td>\n",
       "    </tr>\n",
       "    <tr>\n",
       "      <th>660</th>\n",
       "      <td>Guitar Hero</td>\n",
       "      <td>PS2</td>\n",
       "      <td>2005.0</td>\n",
       "      <td>Misc</td>\n",
       "      <td>RedOctane</td>\n",
       "      <td>1.67</td>\n",
       "      <td>0.61</td>\n",
       "      <td>0.03</td>\n",
       "      <td>0.07</td>\n",
       "      <td>2.38</td>\n",
       "      <td>91.0</td>\n",
       "      <td>8.7</td>\n",
       "      <td>T</td>\n",
       "    </tr>\n",
       "  </tbody>\n",
       "</table>\n",
       "</div>"
      ],
      "text/plain": [
       "                             Name Platform  Year_of_Release      Genre  \\\n",
       "196                Guitar Hero II      PS2           2006.0       Misc   \n",
       "279  Teenage Mutant Ninja Turtles      NES           1989.0     Action   \n",
       "521                          Myst       PC           1994.0  Adventure   \n",
       "637     Riven: The Sequel to Myst       PC           1997.0  Adventure   \n",
       "660                   Guitar Hero      PS2           2005.0       Misc   \n",
       "\n",
       "     Publisher  NA_Sales  EU_Sales  JP_Sales  Other_Sales  Global_Sales  \\\n",
       "196  RedOctane      3.81      0.63      0.00         0.68          5.12   \n",
       "279     Palcom      3.38      0.44      0.31         0.04          4.17   \n",
       "521    Red Orb      0.02      2.79      0.00         0.00          2.81   \n",
       "637    Red Orb      1.52      0.82      0.00         0.10          2.43   \n",
       "660  RedOctane      1.67      0.61      0.03         0.07          2.38   \n",
       "\n",
       "     Critic_Score  User_Score Rating  \n",
       "196          92.0         8.5      T  \n",
       "279           NaN         NaN    NaN  \n",
       "521           NaN         NaN    NaN  \n",
       "637          83.0         NaN      E  \n",
       "660          91.0         8.7      T  "
      ]
     },
     "execution_count": 9,
     "metadata": {},
     "output_type": "execute_result"
    }
   ],
   "source": [
    "comp = (df.Publisher == 'Palcom') | (df.Publisher == 'Red Orb') | \\\n",
    "       (df.Publisher == 'Arena Entertaiment') | (df.Publisher == 'UEP Systems') | \\\n",
    "       (df.Publisher == 'RedOctane') | (df.Publisher == 'Valve') | \\\n",
    "       (df.Publisher == 'Hello Games') | (df.Publisher == 'Sony Computer Entertaiment') | \\\n",
    "       (df.Publisher == 'Westwood Studios') | (df.Publisher == 'Imagic') | \\\n",
    "       (df.Publisher == 'Black Label Games') | (df.Publisher == 'Maxis')\n",
    "# не включил компании с большим количесвтом релизов\n",
    "df[comp].head(5)"
   ]
  },
  {
   "cell_type": "code",
   "execution_count": 16,
   "metadata": {
    "scrolled": true
   },
   "outputs": [
    {
     "data": {
      "text/plain": [
       "1997.0"
      ]
     },
     "execution_count": 16,
     "metadata": {},
     "output_type": "execute_result"
    }
   ],
   "source": [
    "df[comp].Year_of_Release.median()"
   ]
  },
  {
   "cell_type": "markdown",
   "metadata": {},
   "source": [
    "Ещё одно странное замечание - приведенные выше компании выпустили 1-4 игры, которые оказали очень успешными, но тем не менее не продолжили дальше свою работу. + большинство выпущенных ими игр приходится на конец 90х - начало бурного роста больших компаний. Почему в таком случае успешные компании выпустив буквально пару игр прекращяли свою деятельность? Если посмотреть истории этих компаний то всё становится очень логично:\n",
    "* Эти компании были дочерними, чтобы избежать каких-то законодательных ограничений, касательно продаж в разных частях света (например ****Palcom****).\n",
    "\n",
    "* Данные фирмы были куплены крупными издателями (****RedOctane****).\n",
    "\n",
    "* Это были дочерние компании больших разработчиков, которые использовались для реализации нетипичного данной компании  продукта (например компания была занята в образовательной сфере, но решила начать так же разрабатывать игры) (****RedOrb****).\n",
    "\n",
    "* Комания выпустила парочку успешных игр на PS, но несколько следующих, выпущенных на PS2 были сильно раскритикованны пользователями (****UEP Systems****). (Что подтвеждает мою идею о том, что средние компании не выдержали перемен)\n",
    "\n",
    "К сожалению никакого волшебного секрета здесь не оказалось."
   ]
  },
  {
   "cell_type": "markdown",
   "metadata": {},
   "source": [
    "#### Сделаем несколько статистических гипотез.\n",
    "\n",
    "Начнём с проверки того, является ли приставка ****X360**** такой же популярной для разработчиков в своё время как ****PS**** в своё.\n",
    "\n",
    "1. Проверим принадлежат ли обе выборки нормальному распределению, для проверки используем критерий *Шапиро-Уилко*."
   ]
  },
  {
   "cell_type": "code",
   "execution_count": 20,
   "metadata": {},
   "outputs": [
    {
     "data": {
      "text/plain": [
       "(0.9260306358337402, 0.41000327467918396)"
      ]
     },
     "execution_count": 20,
     "metadata": {},
     "output_type": "execute_result"
    }
   ],
   "source": [
    "df_ps = df[df.Platform == 'PS']['Year_of_Release'].value_counts().sort_index(ascending=False)\n",
    "df_ps = np.array(df_ps)\n",
    "stats.shapiro(df_ps)"
   ]
  },
  {
   "cell_type": "code",
   "execution_count": 21,
   "metadata": {},
   "outputs": [
    {
     "data": {
      "text/plain": [
       "(0.955607533454895, 0.7197787761688232)"
      ]
     },
     "execution_count": 21,
     "metadata": {},
     "output_type": "execute_result"
    }
   ],
   "source": [
    "df_x360 = df[df.Platform == 'X360']['Year_of_Release'].value_counts().sort_index(ascending=False)\n",
    "df_x360 = np.array(df_x360)\n",
    "stats.shapiro(df_x360)"
   ]
  },
  {
   "cell_type": "markdown",
   "metadata": {},
   "source": [
    "Обе выборки принадлежат нормальному распределению. Тогда т.к мы сравниваем две выборки из нормальных распределений, то мы можем применить *критерий Стьюдента*.\n",
    "\n",
    "При этом нулевая гипотеза:\n",
    "\n",
    "$H_0 :$ в своё время для X360 выпускали игры так же часто как и для PS в своё.\n",
    "\n",
    "Уровень значимости возьмём 5%\n",
    "\n",
    "Также нарисуем графики."
   ]
  },
  {
   "cell_type": "code",
   "execution_count": 32,
   "metadata": {},
   "outputs": [
    {
     "data": {
      "text/plain": [
       "Text(0.5,1,'Количество выпущенных игр для PS')"
      ]
     },
     "execution_count": 32,
     "metadata": {},
     "output_type": "execute_result"
    },
    {
     "data": {
      "image/png": "[encoded data removed]",
      "text/plain": [
       "<Figure size 936x360 with 2 Axes>"
      ]
     },
     "metadata": {},
     "output_type": "display_data"
    }
   ],
   "source": [
    "fig = plt.figure(figsize=(13,5))\n",
    "ax1 = fig.add_subplot(121)\n",
    "ax2 = fig.add_subplot(122)\n",
    "\n",
    "df_x360_plot = pd.DataFrame(df[df.Platform == 'X360']['Year_of_Release'].value_counts().sort_index(ascending=False))\n",
    "ax1.plot(df_x360_plot)\n",
    "ax1.set_title('Количество выпущенных игр для X360')\n",
    "\n",
    "df_ps_plot = pd.DataFrame(df[df.Platform == 'PS']['Year_of_Release'].value_counts().sort_index(ascending=False))\n",
    "ax2.plot(df_ps_plot)\n",
    "ax2.set_title('Количество выпущенных игр для PS')"
   ]
  },
  {
   "cell_type": "code",
   "execution_count": 33,
   "metadata": {},
   "outputs": [
    {
     "data": {
      "text/plain": [
       "Ttest_indResult(statistic=0.507909485369489, pvalue=0.6170727656473012)"
      ]
     },
     "execution_count": 33,
     "metadata": {},
     "output_type": "execute_result"
    }
   ],
   "source": [
    "stats.ttest_ind(df_ps, df_x360)"
   ]
  },
  {
   "cell_type": "markdown",
   "metadata": {},
   "source": [
    "Нулевая гипотеза подтверждается при уровне значимости больше 5%, т.е. в нашем случае выборки взяты из одного распределения, и гипотеза верна.\n",
    "\n",
    "(Стоит заметить, что я не просто так сравнивал эти платформы, ****Xbox**** и ****PS**** являются конкурентами, и их сравнение имеет некоторую оссмысленность, в отличие от того если бы я сравнивал две платформы каждая из которых абсолютно отличается от другой, в моём случае эти плтаформы имеют одинаковою концепцию)\n",
    "\n",
    "Здесь видно неявное отставание: в то время как разработчики ещё в 90х уделяли серии платформ ****PS**** много внимания, то для платформ из серии ****Xbox**** они начали разрабатывать игры в большом количестве гораздо позже. Грубо говоря разработчики только-только стали серьёзно воспринимать платформу ****Xbox****.\n",
    "\n",
    "(Но всё-таки сравнивать игровые платформы, каждая из которых была популярна в разное время это немного нелогично, к сожалению другие представители имеют ненормальное распределение.)"
   ]
  },
  {
   "cell_type": "markdown",
   "metadata": {},
   "source": [
    "Сейчас посомтрим на применение непараметрического критерия хи-квадрат. \n",
    "\n",
    "Для этого рассмотрим как оценивали игры компании ****Electronic Arts**** критики и игроки. Интуитивно кажется, что вобще эти оценки не должны сильно отичаться, т.к. иначе кто-то из них нечестен, либо слишком предвзят."
   ]
  },
  {
   "cell_type": "code",
   "execution_count": 38,
   "metadata": {
    "scrolled": true
   },
   "outputs": [
    {
     "data": {
      "text/html": [
       "<div>\n",
       "<style scoped>\n",
       "    .dataframe tbody tr th:only-of-type {\n",
       "        vertical-align: middle;\n",
       "    }\n",
       "\n",
       "    .dataframe tbody tr th {\n",
       "        vertical-align: top;\n",
       "    }\n",
       "\n",
       "    .dataframe thead th {\n",
       "        text-align: right;\n",
       "    }\n",
       "</style>\n",
       "<table border=\"1\" class=\"dataframe\">\n",
       "  <thead>\n",
       "    <tr style=\"text-align: right;\">\n",
       "      <th></th>\n",
       "      <th>больше 8.0</th>\n",
       "      <th>меньше 8.0</th>\n",
       "      <th>всего</th>\n",
       "    </tr>\n",
       "  </thead>\n",
       "  <tbody>\n",
       "    <tr>\n",
       "      <th>Критики</th>\n",
       "      <td>417</td>\n",
       "      <td>612</td>\n",
       "      <td>1029</td>\n",
       "    </tr>\n",
       "    <tr>\n",
       "      <th>Игроки</th>\n",
       "      <td>321</td>\n",
       "      <td>705</td>\n",
       "      <td>1026</td>\n",
       "    </tr>\n",
       "    <tr>\n",
       "      <th>Вместе</th>\n",
       "      <td>738</td>\n",
       "      <td>1317</td>\n",
       "      <td>2055</td>\n",
       "    </tr>\n",
       "  </tbody>\n",
       "</table>\n",
       "</div>"
      ],
      "text/plain": [
       "         больше 8.0  меньше 8.0  всего\n",
       "Критики         417         612   1029\n",
       "Игроки          321         705   1026\n",
       "Вместе          738        1317   2055"
      ]
     },
     "execution_count": 38,
     "metadata": {},
     "output_type": "execute_result"
    }
   ],
   "source": [
    "df_ea = df[df.Publisher == 'Electronic Arts']\n",
    "\n",
    "df['User_Score'] = pd.to_numeric(df['User_Score'], errors='coerce')\n",
    "\n",
    "more80_critic = len(df_ea[df.Critic_Score >= 80])\n",
    "less80_critic = len(df_ea[df.Critic_Score < 80])\n",
    "\n",
    "more8_user = len(df_ea[df.User_Score >= 8.0])\n",
    "less8_user = len(df_ea[df.User_Score < 8.0])\n",
    "\n",
    "total = more80_critic + less80_critic + more8_user + less8_user\n",
    "\n",
    "df_ea_matr = pd.DataFrame({'больше 8.0': [more80_critic, more8_user, more80_critic+more8_user],\n",
    "                           'меньше 8.0': [less80_critic, less8_user, less80_critic+less8_user],\n",
    "                           'всего': [more80_critic+less80_critic, more8_user+less8_user, total]},\n",
    "                         index=['Критики', 'Игроки', 'Вместе'])\n",
    "df_ea_matr"
   ]
  },
  {
   "cell_type": "markdown",
   "metadata": {},
   "source": [
    "В качестве номинальной шкалы возьмём: критик/игрок поставил оценку выше 8.0 и ниже соответсвтенно. Наблюдений для использования критерия достаточно, и они не являются связанными. В таком случае можно применить критерий хи-квадрат.\n",
    "\n",
    "Нулевая гипотеза звучит так:\n",
    "\n",
    "$H_0:$ критики и игроки одинаково часто ставят хорошие и плохие оценки играм компании ****Electronic Arts****."
   ]
  },
  {
   "cell_type": "code",
   "execution_count": 41,
   "metadata": {},
   "outputs": [
    {
     "data": {
      "text/plain": [
       "<matplotlib.axes._subplots.AxesSubplot at 0x7fb390c4b6a0>"
      ]
     },
     "execution_count": 41,
     "metadata": {},
     "output_type": "execute_result"
    },
    {
     "data": {
      "image/png": "[encoded data removed]",
      "text/plain": [
       "<Figure size 432x288 with 1 Axes>"
      ]
     },
     "metadata": {},
     "output_type": "display_data"
    }
   ],
   "source": [
    "df_ea_matr.iloc[:2, :2].plot.bar(stacked=True)"
   ]
  },
  {
   "cell_type": "code",
   "execution_count": 40,
   "metadata": {},
   "outputs": [
    {
     "data": {
      "text/plain": [
       "(18.651384888052966,\n",
       " 1.5693323987536103e-05,\n",
       " 1,\n",
       " array([[369.53868613, 659.46131387],\n",
       "        [368.46131387, 657.53868613]]))"
      ]
     },
     "execution_count": 40,
     "metadata": {},
     "output_type": "execute_result"
    }
   ],
   "source": [
    "chi2_contingency(df_ea_matr.iloc[:2,:2])"
   ]
  },
  {
   "cell_type": "markdown",
   "metadata": {},
   "source": [
    "Значение p сильно меньше 0.05, что гооврит о том, что различие в расстановке оценок критиками существенно отличается от расстановки оценок игроками. \n",
    "\n",
    "* Возможно игроки и критики обращают внимание на разные детали. \n",
    "\n",
    "* Либо кто-то из этих групп более пердвзят. \n",
    "\n",
    "* Или же можно сделать достаточно громокое предположение о том, что ****Electronic Arts**** покупает более высокие оценки критиков для рекламы некоторых игр. \n",
    "\n",
    "Ненмого погуглив становится ясно, что эта причина кроется в первом предположении. ****Electronic Arts**** имеют очень нелюбимую игроками бизнес модель, которая включает в себя большое число микроплатежей внутри игры, без которых игра не такая полная. Скорее всего критиков это не касается, а вот игроки это ощущают в полной мере, выражая свой негатив в заниженных оценках."
   ]
  },
  {
   "cell_type": "markdown",
   "metadata": {},
   "source": [
    "Оценим игры какой компании игроки больше любят ****Activision**** или ****Sony Computer Entertainment****, в качестве оценки будем использовать оценки игроков.\n",
    "\n",
    "Буду использовать критерий Манна-Уитни, этот критерий не имеет особых условий, он подойдет как и для очень маленьких выборок, так и тем более для больших как в моём случае. Заметим так же что обе этих компании выпустили достаточно много игр (985 - ****Acrivision****, 687 - ****Sony Computer Entertainment****)\n",
    "\n",
    "Нулевая гипотеза:\n",
    "\n",
    "$H_0:$ играм, выпущенным ****Activision**** и ****Sony Computer Entertainment**** ставят похожие оценки."
   ]
  },
  {
   "cell_type": "code",
   "execution_count": 46,
   "metadata": {},
   "outputs": [
    {
     "data": {
      "application/vnd.plotly.v1+json": {
       "data": [
        {
         "name": "Scores of Activision",
         "type": "scatter",
         "uid": "cb854299-6d90-4285-81dc-e341709552b1",
         "x": [
          9.4,
          9.3,
          9.2,
          9.1,
          9,
          8.9,
          8.8,
          8.7,
          8.6,
          8.5,
          8.4,
          8.3,
          8.2,
          8.1,
          8,
          7.9,
          7.8,
          7.7,
          7.6,
          7.5,
          7.4,
          7.3,
          7.2,
          7.1,
          7,
          6.9,
          6.8,
          6.7,
          6.6,
          6.5,
          6.4,
          6.3,
          6.2,
          6.1,
          6,
          5.9,
          5.8,
          5.7,
          5.6,
          5.5,
          5.4,
          5.3,
          5.2,
          5.1,
          5,
          4.9,
          4.8,
          4.7,
          4.6,
          4.5,
          4.4,
          4.3,
          4.2,
          4.1,
          4,
          3.8,
          3.7,
          3.6,
          3.5,
          3.4,
          3.3,
          3.2,
          3.1,
          3,
          2.8,
          2.6,
          2.5,
          2.4,
          2.1,
          2,
          1.8,
          1.5,
          1.4
         ],
         "y": [
          1,
          4,
          4,
          7,
          8,
          6,
          13,
          12,
          11,
          13,
          11,
          15,
          11,
          9,
          22,
          12,
          22,
          12,
          21,
          25,
          13,
          14,
          14,
          8,
          16,
          11,
          9,
          11,
          12,
          11,
          15,
          15,
          9,
          11,
          7,
          5,
          7,
          8,
          12,
          7,
          6,
          7,
          10,
          4,
          12,
          2,
          6,
          2,
          3,
          8,
          4,
          2,
          3,
          2,
          5,
          2,
          3,
          2,
          3,
          7,
          1,
          1,
          5,
          3,
          3,
          3,
          1,
          1,
          2,
          3,
          1,
          1,
          1
         ]
        },
        {
         "name": "Scores of Sony",
         "type": "scatter",
         "uid": "b84427fb-78c7-4ba5-bdf3-ceb889f487cf",
         "x": [
          9.2,
          9.1,
          9,
          8.9,
          8.8,
          8.7,
          8.6,
          8.5,
          8.4,
          8.3,
          8.2,
          8.1,
          8,
          7.9,
          7.8,
          7.7,
          7.6,
          7.5,
          7.4,
          7.3,
          7.2,
          7.1,
          7,
          6.9,
          6.8,
          6.7,
          6.6,
          6.5,
          6.4,
          6.3,
          6.2,
          6.1,
          6,
          5.9,
          5.8,
          5.7,
          5.6,
          5.5,
          5.4,
          5.2,
          5.1,
          5,
          4.9,
          4.6,
          4.4,
          4.2,
          4,
          3.9,
          3.8,
          3.7,
          3.1,
          3
         ],
         "y": [
          1,
          6,
          12,
          9,
          14,
          14,
          12,
          11,
          19,
          20,
          16,
          13,
          9,
          18,
          19,
          9,
          3,
          16,
          11,
          6,
          7,
          5,
          2,
          8,
          10,
          2,
          3,
          3,
          3,
          7,
          4,
          3,
          5,
          2,
          3,
          2,
          1,
          2,
          1,
          2,
          1,
          1,
          1,
          2,
          1,
          1,
          1,
          2,
          1,
          1,
          1,
          1
         ]
        }
       ],
       "layout": {
        "height": 400,
        "title": "Scores of companies",
        "width": 800
       }
      },
      "text/html": [
       "<div id=\"678b17b9-a31f-47ac-8684-5458733f2f87\" style=\"height: 400px; width: 800px;\" class=\"plotly-graph-div\"></div><script type=\"text/javascript\">require([\"plotly\"], function(Plotly) { window.PLOTLYENV=window.PLOTLYENV || {};window.PLOTLYENV.BASE_URL=\"https://plot.ly\";Plotly.newPlot(\"678b17b9-a31f-47ac-8684-5458733f2f87\", [{\"name\": \"Scores of Activision\", \"x\": [9.4, 9.3, 9.2, 9.1, 9.0, 8.9, 8.8, 8.7, 8.6, 8.5, 8.4, 8.3, 8.2, 8.1, 8.0, 7.9, 7.8, 7.7, 7.6, 7.5, 7.4, 7.3, 7.2, 7.1, 7.0, 6.9, 6.8, 6.7, 6.6, 6.5, 6.4, 6.3, 6.2, 6.1, 6.0, 5.9, 5.8, 5.7, 5.6, 5.5, 5.4, 5.3, 5.2, 5.1, 5.0, 4.9, 4.8, 4.7, 4.6, 4.5, 4.4, 4.3, 4.2, 4.1, 4.0, 3.8, 3.7, 3.6, 3.5, 3.4, 3.3, 3.2, 3.1, 3.0, 2.8, 2.6, 2.5, 2.4, 2.1, 2.0, 1.8, 1.5, 1.4], \"y\": [1, 4, 4, 7, 8, 6, 13, 12, 11, 13, 11, 15, 11, 9, 22, 12, 22, 12, 21, 25, 13, 14, 14, 8, 16, 11, 9, 11, 12, 11, 15, 15, 9, 11, 7, 5, 7, 8, 12, 7, 6, 7, 10, 4, 12, 2, 6, 2, 3, 8, 4, 2, 3, 2, 5, 2, 3, 2, 3, 7, 1, 1, 5, 3, 3, 3, 1, 1, 2, 3, 1, 1, 1], \"type\": \"scatter\", \"uid\": \"cb854299-6d90-4285-81dc-e341709552b1\"}, {\"name\": \"Scores of Sony\", \"x\": [9.2, 9.1, 9.0, 8.9, 8.8, 8.7, 8.6, 8.5, 8.4, 8.3, 8.2, 8.1, 8.0, 7.9, 7.8, 7.7, 7.6, 7.5, 7.4, 7.3, 7.2, 7.1, 7.0, 6.9, 6.8, 6.7, 6.6, 6.5, 6.4, 6.3, 6.2, 6.1, 6.0, 5.9, 5.8, 5.7, 5.6, 5.5, 5.4, 5.2, 5.1, 5.0, 4.9, 4.6, 4.4, 4.2, 4.0, 3.9, 3.8, 3.7, 3.1, 3.0], \"y\": [1, 6, 12, 9, 14, 14, 12, 11, 19, 20, 16, 13, 9, 18, 19, 9, 3, 16, 11, 6, 7, 5, 2, 8, 10, 2, 3, 3, 3, 7, 4, 3, 5, 2, 3, 2, 1, 2, 1, 2, 1, 1, 1, 2, 1, 1, 1, 2, 1, 1, 1, 1], \"type\": \"scatter\", \"uid\": \"b84427fb-78c7-4ba5-bdf3-ceb889f487cf\"}], {\"height\": 400, \"title\": \"Scores of companies\", \"width\": 800}, {\"showLink\": false, \"linkText\": \"Export to plot.ly\"})});</script>"
      ],
      "text/vnd.plotly.v1+html": [
       "<div id=\"678b17b9-a31f-47ac-8684-5458733f2f87\" style=\"height: 400px; width: 800px;\" class=\"plotly-graph-div\"></div><script type=\"text/javascript\">require([\"plotly\"], function(Plotly) { window.PLOTLYENV=window.PLOTLYENV || {};window.PLOTLYENV.BASE_URL=\"https://plot.ly\";Plotly.newPlot(\"678b17b9-a31f-47ac-8684-5458733f2f87\", [{\"name\": \"Scores of Activision\", \"x\": [9.4, 9.3, 9.2, 9.1, 9.0, 8.9, 8.8, 8.7, 8.6, 8.5, 8.4, 8.3, 8.2, 8.1, 8.0, 7.9, 7.8, 7.7, 7.6, 7.5, 7.4, 7.3, 7.2, 7.1, 7.0, 6.9, 6.8, 6.7, 6.6, 6.5, 6.4, 6.3, 6.2, 6.1, 6.0, 5.9, 5.8, 5.7, 5.6, 5.5, 5.4, 5.3, 5.2, 5.1, 5.0, 4.9, 4.8, 4.7, 4.6, 4.5, 4.4, 4.3, 4.2, 4.1, 4.0, 3.8, 3.7, 3.6, 3.5, 3.4, 3.3, 3.2, 3.1, 3.0, 2.8, 2.6, 2.5, 2.4, 2.1, 2.0, 1.8, 1.5, 1.4], \"y\": [1, 4, 4, 7, 8, 6, 13, 12, 11, 13, 11, 15, 11, 9, 22, 12, 22, 12, 21, 25, 13, 14, 14, 8, 16, 11, 9, 11, 12, 11, 15, 15, 9, 11, 7, 5, 7, 8, 12, 7, 6, 7, 10, 4, 12, 2, 6, 2, 3, 8, 4, 2, 3, 2, 5, 2, 3, 2, 3, 7, 1, 1, 5, 3, 3, 3, 1, 1, 2, 3, 1, 1, 1], \"type\": \"scatter\", \"uid\": \"cb854299-6d90-4285-81dc-e341709552b1\"}, {\"name\": \"Scores of Sony\", \"x\": [9.2, 9.1, 9.0, 8.9, 8.8, 8.7, 8.6, 8.5, 8.4, 8.3, 8.2, 8.1, 8.0, 7.9, 7.8, 7.7, 7.6, 7.5, 7.4, 7.3, 7.2, 7.1, 7.0, 6.9, 6.8, 6.7, 6.6, 6.5, 6.4, 6.3, 6.2, 6.1, 6.0, 5.9, 5.8, 5.7, 5.6, 5.5, 5.4, 5.2, 5.1, 5.0, 4.9, 4.6, 4.4, 4.2, 4.0, 3.9, 3.8, 3.7, 3.1, 3.0], \"y\": [1, 6, 12, 9, 14, 14, 12, 11, 19, 20, 16, 13, 9, 18, 19, 9, 3, 16, 11, 6, 7, 5, 2, 8, 10, 2, 3, 3, 3, 7, 4, 3, 5, 2, 3, 2, 1, 2, 1, 2, 1, 1, 1, 2, 1, 1, 1, 2, 1, 1, 1, 1], \"type\": \"scatter\", \"uid\": \"b84427fb-78c7-4ba5-bdf3-ceb889f487cf\"}], {\"height\": 400, \"title\": \"Scores of companies\", \"width\": 800}, {\"showLink\": false, \"linkText\": \"Export to plot.ly\"})});</script>"
      ]
     },
     "metadata": {},
     "output_type": "display_data"
    }
   ],
   "source": [
    "df_activision = pd.DataFrame(df[df.Publisher == 'Activision']\n",
    "                        ['User_Score'].value_counts().sort_index(ascending=False))\n",
    "df_sony = pd.DataFrame(df[df.Publisher == 'Sony Computer Entertainment']\n",
    "                       ['User_Score'].value_counts().sort_index(ascending=False))\n",
    "\n",
    "trace1 = go.Scatter(\n",
    "    x=df_activision.index,\n",
    "    y=df_activision.User_Score,\n",
    "    name='Scores of Activision'\n",
    ")\n",
    "\n",
    "trace2 = go.Scatter(\n",
    "    x=df_sony.index,\n",
    "    y=df_sony.User_Score,\n",
    "    name='Scores of Sony'\n",
    ")\n",
    "\n",
    "layout = go.Layout(\n",
    "    width=800,\n",
    "    height=400,\n",
    "    title='Scores of companies')\n",
    "data = [trace1, trace2]\n",
    "\n",
    "fig = go.Figure(data=data, layout=layout)\n",
    "iplot(fig, show_link=False)"
   ]
  },
  {
   "cell_type": "code",
   "execution_count": 47,
   "metadata": {},
   "outputs": [
    {
     "data": {
      "text/plain": [
       "MannwhitneyuResult(statistic=1513.5, pvalue=0.02666065432172212)"
      ]
     },
     "execution_count": 47,
     "metadata": {},
     "output_type": "execute_result"
    }
   ],
   "source": [
    "df_activision = np.array(df[df.Publisher == 'Activision']\n",
    "                           ['User_Score'].value_counts().sort_index(ascending=False))\n",
    "df_sony = np.array(df[df.Publisher == 'Sony Computer Entertainment']\n",
    "                     ['User_Score'].value_counts().sort_index(ascending=False))\n",
    "\n",
    "stats.mannwhitneyu(df_activision, df_sony)"
   ]
  },
  {
   "cell_type": "markdown",
   "metadata": {},
   "source": [
    "Из p-значения критерия видно, что нулевую гипотезу стоит отвергнуть. А на графике можно заметить, что ****Sony Computer Entertainment**** игроки очень редко ставят низкие оценки по сравнению с ****Activision****.\n",
    "\n",
    "Вывод: скорее всего пользователям больше нравятся игры компании ****Sony Computer Entertainment****."
   ]
  },
  {
   "cell_type": "markdown",
   "metadata": {},
   "source": [
    "#### Предскажем временной ряд\n",
    "\n",
    "В качестве предсказания временного ряда расчитаем популярность среди разработчиков игр по отношению к серии платформ ****Play Station**** на 4 года. \n",
    "\n",
    "Я объеденил 4 приставки исходя из предположения что они являются продолжением друг друга. Со временем игровые компании делают игры всё сложнее, которые требуют больше мощностей. Для этого производитель выпускает, новую приставку, которая продолжает путь предыдущей, но является на порядко продвинутее в плане железа."
   ]
  },
  {
   "cell_type": "code",
   "execution_count": 54,
   "metadata": {
    "scrolled": false
   },
   "outputs": [
    {
     "data": {
      "application/vnd.plotly.v1+json": {
       "data": [
        {
         "type": "scatter",
         "uid": "1ae564c0-b7d4-4cb0-975d-fa2ffc59853e",
         "x": [
          1994,
          1995,
          1996,
          1997,
          1998,
          1999,
          2000,
          2001,
          2002,
          2003,
          2004,
          2005,
          2006,
          2007,
          2008,
          2009,
          2010,
          2011,
          2012,
          2013,
          2014,
          2015,
          2016
         ],
         "y": [
          17,
          99,
          164,
          188,
          248,
          200,
          242,
          276,
          300,
          259,
          259,
          260,
          286,
          304,
          329,
          258,
          219,
          222,
          148,
          142,
          183,
          210,
          202
         ]
        }
       ],
       "layout": {
        "height": 400,
        "title": "Популярность PlayStation",
        "width": 800
       }
      },
      "text/html": [
       "<div id=\"891aa1d2-6572-46b8-826f-7ea310ef89c5\" style=\"height: 400px; width: 800px;\" class=\"plotly-graph-div\"></div><script type=\"text/javascript\">require([\"plotly\"], function(Plotly) { window.PLOTLYENV=window.PLOTLYENV || {};window.PLOTLYENV.BASE_URL=\"https://plot.ly\";Plotly.newPlot(\"891aa1d2-6572-46b8-826f-7ea310ef89c5\", [{\"x\": [1994.0, 1995.0, 1996.0, 1997.0, 1998.0, 1999.0, 2000.0, 2001.0, 2002.0, 2003.0, 2004.0, 2005.0, 2006.0, 2007.0, 2008.0, 2009.0, 2010.0, 2011.0, 2012.0, 2013.0, 2014.0, 2015.0, 2016.0], \"y\": [17, 99, 164, 188, 248, 200, 242, 276, 300, 259, 259, 260, 286, 304, 329, 258, 219, 222, 148, 142, 183, 210, 202], \"type\": \"scatter\", \"uid\": \"1ae564c0-b7d4-4cb0-975d-fa2ffc59853e\"}], {\"height\": 400, \"title\": \"\\u041f\\u043e\\u043f\\u0443\\u043b\\u044f\\u0440\\u043d\\u043e\\u0441\\u0442\\u044c PlayStation\", \"width\": 800}, {\"showLink\": false, \"linkText\": \"Export to plot.ly\"})});</script>"
      ],
      "text/vnd.plotly.v1+html": [
       "<div id=\"891aa1d2-6572-46b8-826f-7ea310ef89c5\" style=\"height: 400px; width: 800px;\" class=\"plotly-graph-div\"></div><script type=\"text/javascript\">require([\"plotly\"], function(Plotly) { window.PLOTLYENV=window.PLOTLYENV || {};window.PLOTLYENV.BASE_URL=\"https://plot.ly\";Plotly.newPlot(\"891aa1d2-6572-46b8-826f-7ea310ef89c5\", [{\"x\": [1994.0, 1995.0, 1996.0, 1997.0, 1998.0, 1999.0, 2000.0, 2001.0, 2002.0, 2003.0, 2004.0, 2005.0, 2006.0, 2007.0, 2008.0, 2009.0, 2010.0, 2011.0, 2012.0, 2013.0, 2014.0, 2015.0, 2016.0], \"y\": [17, 99, 164, 188, 248, 200, 242, 276, 300, 259, 259, 260, 286, 304, 329, 258, 219, 222, 148, 142, 183, 210, 202], \"type\": \"scatter\", \"uid\": \"1ae564c0-b7d4-4cb0-975d-fa2ffc59853e\"}], {\"height\": 400, \"title\": \"\\u041f\\u043e\\u043f\\u0443\\u043b\\u044f\\u0440\\u043d\\u043e\\u0441\\u0442\\u044c PlayStation\", \"width\": 800}, {\"showLink\": false, \"linkText\": \"Export to plot.ly\"})});</script>"
      ]
     },
     "metadata": {},
     "output_type": "display_data"
    }
   ],
   "source": [
    "df_ps_history = df[(df.Platform == 'PS') | (df.Platform == 'PS2') | \\\n",
    "                   (df.Platform == 'PS3') | (df.Platform == 'PS4')] \\\n",
    "                  ['Year_of_Release'].value_counts().sort_index()\n",
    "\n",
    "trace1 = go.Scatter(\n",
    "    x=df_ps_history.index,\n",
    "    y=df_ps_history\n",
    ")\n",
    "\n",
    "layout = go.Layout(\n",
    "    width=800,\n",
    "    height=400,\n",
    "    title='Популярность PlayStation')\n",
    "data = [trace1]\n",
    "\n",
    "fig = go.Figure(data=data, layout=layout)\n",
    "iplot(fig, show_link=False)"
   ]
  },
  {
   "cell_type": "markdown",
   "metadata": {},
   "source": [
    "Проверим ряд на стационарность."
   ]
  },
  {
   "cell_type": "code",
   "execution_count": 58,
   "metadata": {
    "scrolled": false
   },
   "outputs": [
    {
     "name": "stdout",
     "output_type": "stream",
     "text": [
      "adf:  -3.4413164302135484\n",
      "p-value:  0.009628491378581709\n",
      "Critical values:  {'1%': -3.769732625845229, '5%': -3.005425537190083, '10%': -2.6425009917355373}\n",
      "единичных корней нет, ряд стационарен\n"
     ]
    }
   ],
   "source": [
    "df_ps_history = pd.DataFrame(df_ps_history)\n",
    "\n",
    "import statsmodels.api as sm\n",
    "\n",
    "stat_test = sm.tsa.adfuller(df_ps_history.Year_of_Release)\n",
    "print ('adf: ', stat_test[0] )\n",
    "print ('p-value: ', stat_test[1])\n",
    "print('Critical values: ', stat_test[4])\n",
    "if stat_test[0]> stat_test[4]['5%']: \n",
    "    print ('есть единичные корни, ряд не стационарен')\n",
    "else:\n",
    "    print ('единичных корней нет, ряд стационарен')"
   ]
  },
  {
   "cell_type": "markdown",
   "metadata": {},
   "source": [
    "Несмотря на стационраность, я один раз продифференцировал ряд, т.к. иначе на графике частичной автокорреляции появляется один чрезмерно сильно выделяющийся лаг."
   ]
  },
  {
   "cell_type": "code",
   "execution_count": 62,
   "metadata": {},
   "outputs": [],
   "source": [
    "train_ps_history = df_ps_history.Year_of_Release.diff(periods=1).dropna()"
   ]
  },
  {
   "cell_type": "code",
   "execution_count": 63,
   "metadata": {
    "scrolled": true
   },
   "outputs": [
    {
     "data": {
      "image/png": "[encoded data removed]",
      "text/plain": [
       "<Figure size 864x576 with 2 Axes>"
      ]
     },
     "metadata": {},
     "output_type": "display_data"
    }
   ],
   "source": [
    "fig = plt.figure(figsize=(12,8))\n",
    "ax1 = fig.add_subplot(211)\n",
    "fig = sm.graphics.tsa.plot_acf(train_ps_history.values.squeeze(), lags=20, ax=ax1)\n",
    "ax2 = fig.add_subplot(212)\n",
    "fig = sm.graphics.tsa.plot_pacf(train_ps_history, lags=20, ax=ax2)"
   ]
  },
  {
   "cell_type": "code",
   "execution_count": 78,
   "metadata": {},
   "outputs": [],
   "source": [
    "s = 5\n",
    "# сезонность не силььна видна,\n",
    "# но она примерно совпадает с периодом выпуска игровых консолей,\n",
    "# и ненмого выделяется на графике\n",
    "d = 0 \n",
    "# немного остранно получается, что я продифференцировал один раз,\n",
    "# чтобы график автокорреляции выглядел нормально,\n",
    "# но с d = 0 предсказания выглядядят поприятнее.\n",
    "D = 0 # не проводил сезонного дифференцирования \n",
    "\n",
    "p = 1 # только первый лаг отличен от 0 (рассматривая первые 10)\n",
    "P = 1 # только 20й лаг сильно отличается\n",
    "\n",
    "q = 1 # только один лаг сильно отличается от 0\n",
    "Q = 0 # иначе не работает"
   ]
  },
  {
   "cell_type": "code",
   "execution_count": 79,
   "metadata": {},
   "outputs": [],
   "source": [
    "best_model=sm.tsa.statespace.SARIMAX(df_ps_history.Year_of_Release.squeeze(), order=(p, d, q), \n",
    "                                        seasonal_order=(P, D, Q, s)).fit()"
   ]
  },
  {
   "cell_type": "code",
   "execution_count": 91,
   "metadata": {},
   "outputs": [
    {
     "data": {
      "text/plain": [
       "2016    204.782514\n",
       "2017    199.205225\n",
       "2018    187.032482\n",
       "2019    177.057350\n",
       "dtype: float64"
      ]
     },
     "execution_count": 91,
     "metadata": {},
     "output_type": "execute_result"
    }
   ],
   "source": [
    "forecast = best_model.predict(start = df_ps_history.shape[0], end = df_ps_history.shape[0]+3)\n",
    "forecast.index = range(2016, 2020)\n",
    "forecast"
   ]
  },
  {
   "cell_type": "code",
   "execution_count": 90,
   "metadata": {},
   "outputs": [
    {
     "data": {
      "image/png": "[encoded data removed]",
      "text/plain": [
       "<Figure size 1152x576 with 1 Axes>"
      ]
     },
     "metadata": {},
     "output_type": "display_data"
    }
   ],
   "source": [
    "plt.figure(figsize=(16,8))\n",
    "plt.plot(df_ps_history.Year_of_Release.squeeze(), label='Train')\n",
    "plt.plot(forecast, label='Prediction')\n",
    "plt.legend()\n",
    "plt.show()"
   ]
  },
  {
   "cell_type": "markdown",
   "metadata": {},
   "source": [
    "Резюмируя проведённое мини-исследование можно сделать несколько выводов и замечаний касательно игровой идустрии.\n",
    "\n",
    "* Игровая индустрия это очень большой рынок, на котором крепко обосновались крупные компании, но не смотря на это можно заметить, что внимание к релизам больших компаний сильно уменьшилось. Возможно это послужит небольшим преимуществом средним компаниям, которые смогут заинтересовать игроков чем-то особенным, чем не смогли большие.\n",
    "\n",
    "* Немного было рассмотрено развитие компаний, переломными моментами которого является выпуск платформы ****PS****, что дало огромное внимание к молодым разработчикам и последующий выпуск платформы  ****PS2**** - оставивший всех разработчиков, котоыре не смогли перестроиться, далеко позади.\n",
    "\n",
    "* Были проверены несколько гипотез, исходя из которой условно можно скзать, вторая серия платформы ****XBox**** привлекла едва столько же внимания у разработчиков, сколько первая платформа ****PlayStation****.\n",
    "\n",
    "* Также замечено, что игроки не очень любят компанию ****Electronic Arts****, на что ,немного погуглив, нашлись веские причины в виде вездесущих микроплатежей, может этой компании стоит задуматься над сменой бизнес-модели. Если конечно они заботятся о мнении игрков, т.к. игровая сфера это тот же бизнес, а в бизнесе как бы это грубо не было, самое важное это условно прибыль, и возможно текущая бизнес-модель этому условию удовлетворяет более чем.\n",
    "\n",
    "* При проверке последней незамысловатой гипотезы было обнаружено, что компания ****Sony Computer Entertainment**** больше импонирует нежели ****Activision****. Видимо менеджмент первой компании лучше понимает эту индустрию, это может быть косвенной положительной оценкой этой компании с точки зрения например инвестиций.\n",
    "\n",
    "* В конце был предсказан временной ряд для серий игровых приставок ****PS**** и видно, что разработчики будут не так активны в ближайшие года, это хорошо состыковывается с вцелом понижающимся спросом в игровой индустрии."
   ]
  }
 ],
 "metadata": {
  "kernelspec": {
   "display_name": "Python 3",
   "language": "python",
   "name": "python3"
  },
  "language_info": {
   "codemirror_mode": {
    "name": "ipython",
    "version": 3
   },
   "file_extension": ".py",
   "mimetype": "text/x-python",
   "name": "python",
   "nbconvert_exporter": "python",
   "pygments_lexer": "ipython3",
   "version": "3.6.5"
  }
 },
 "nbformat": 4,
 "nbformat_minor": 2
}
