{
 "cells": [
  {
   "cell_type": "markdown",
   "metadata": {},
   "source": [
    "**Общая информация**\n",
    "\n",
    "**Срок сдачи:** 18 октября 2017, 06:00 <br\\>\n",
    "**Штраф за опоздание:** -2 балла после 06:00 18 октября, -4 балла после 06:00 25 октября, -6 баллов после 06:00 1 ноября\n",
    "\n",
    "При отправлении ДЗ указывайте фамилию в названии файла\n",
    "Присылать ДЗ необходимо в виде ссылки на свой github репозиторий в slack @alkhamush\n",
    "\n",
    "Необходимо в slack создать таск в приватный чат:\n",
    "/todo Фамилия Имя ссылка на гитхаб @alkhamush\n",
    "Пример:\n",
    "/todo Ксения Стройкова https://github.com/stroykova/spheremailru/stroykova_hw1.ipynb @alkhamush\n",
    "Дополнительно нужно просто скинуть ссылку в slack в личный чат\n",
    "\n",
    "Используйте данный Ipython Notebook при оформлении домашнего задания."
   ]
  },
  {
   "cell_type": "markdown",
   "metadata": {},
   "source": [
    "###### Задание 1 (2 баллов)\n",
    "Реализовать KNN в классе MyKNeighborsClassifier (обязательное условие: точность не ниже sklearn реализации)\n",
    "Разберитесь самостоятельно, какая мера расстояния используется в KNeighborsClassifier дефолтно и реализуйте свой алгоритм именно с этой мерой. Самостоятельно разберитесь, как считается score из KNeighborsClassifier и реализуйте аналог в своём классе. Score не должен уступать значению KNN из sklearn\n",
    "\n",
    "###### Задание 2 (2 балла)\n",
    "Добиться скорости работы на fit,  predict и predict_proba сравнимой со sklearn для iris и mnist\n",
    "Для этого используем numpy\n",
    "\n",
    "###### Задание 3 (2 балла)\n",
    "Для iris найдите такой параметр n_neighbors, при котором выдаётся наилучший score. Нарисуйте график зависимости score от n_neighbors\n",
    "\n",
    "###### Задание 4 (3 балла)\n",
    "Добавить algorithm='kd_tree' в реализацию KNN (использовать KDTree из sklearn.neighbors). Значение n_neighbors нужно взять из задания 3. Добиться скорости работы на fit,  predict и predict_proba сравнимой со sklearn для iris и mnist\n",
    "Для этого используем numpy. Score не должен уступать значению KNN из sklearn\n",
    "\n",
    "###### Задание 5 (1 балла)\n",
    "Описать для чего нужны следующие библиотеки/классы/функции (список будет ниже)\n",
    "\n",
    "**Штрафные баллы:**\n",
    "\n",
    "1. Невыполнение PEP8 -1 балл\n",
    "2. Отсутствие фамилии в имени скрипта (скрипт должен называться по аналогии со stroykova_hw1.ipynb) -1 балл\n",
    "3. Все строчки должны быть выполнены. Нужно, чтобы output команды можно было увидеть уже в git'е. В противном случае -1 балл\n",
    "4. При оформлении ДЗ нужно пользоваться данным файлом в качестве шаблона. Не нужно удалять и видоизменять структуру кода и текст. В противном случае -1 балл\n"
   ]
  },
  {
   "cell_type": "code",
   "execution_count": 1,
   "metadata": {},
   "outputs": [],
   "source": [
    "import numpy as np\n",
    "import matplotlib.pyplot as plt\n",
    "\n",
    "import seaborn as sns\n",
    "from sklearn import datasets\n",
    "from sklearn.base import ClassifierMixin\n",
    "from sklearn.datasets import fetch_mldata\n",
    "from sklearn.neighbors.base import NeighborsBase, KNeighborsMixin, SupervisedIntegerMixin \n",
    "from sklearn.model_selection import train_test_split\n",
    "from sklearn.neighbors import KNeighborsClassifier, KDTree\n",
    "from scipy import stats\n",
    "%load_ext pycodestyle_magic"
   ]
  },
  {
   "cell_type": "code",
   "execution_count": 14,
   "metadata": {},
   "outputs": [],
   "source": [
    "#%%pycodestyle\n",
    "\n",
    "\n",
    "class MyKNeighborsClassifier(NeighborsBase, KNeighborsMixin,\n",
    "                             SupervisedIntegerMixin, ClassifierMixin):\n",
    "\n",
    "    def __init__(self, n_neighbors, algorithm='brute'):\n",
    "        self.neighbors = n_neighbors\n",
    "        self.algorithm = algorithm\n",
    "\n",
    "    def fit(self, X, y):\n",
    "        self.x_train = np.array(X).astype(float)\n",
    "        self.y_train = np.array(y)\n",
    "        self.y_label = np.unique(y)\n",
    "        self.n_classes = np.shape(self.y_label)[0]\n",
    "        self.y_dist = (self.x_train ** 2).sum(axis=1)\n",
    "        if self.algorithm == 'kd_tree':\n",
    "            self.tree = KDTree(self.x_train, leaf_size=60)\n",
    "\n",
    "    def predict(self, X):\n",
    "        if self.algorithm == 'brute':\n",
    "            return self.predict_brute(X)\n",
    "        elif self.algorithm == 'kd_tree':\n",
    "            return self.predict_kdtree(X)\n",
    "        \n",
    "    def predict_proba(self, X):\n",
    "        if self.algorithm == 'brute':\n",
    "            return self.predict_proba_brute(X)\n",
    "        elif self.algorithm == 'kd_tree':\n",
    "            return self.predict_proba_kdtree(X)\n",
    "\n",
    "    def predict_kdtree(self, X):\n",
    "        X = X.astype(float)\n",
    "        dist, ind = self.tree.query(X, k=self.neighbors)\n",
    "        predict = self.y_train[ind].T\n",
    "        return stats.mode(predict)[0].reshape(-1)\n",
    "\n",
    "    def predict_brute(self, X):\n",
    "        X = X.astype(float)\n",
    "        x_dist = (X ** 2).sum(axis=1)\n",
    "        xy_dist = X.dot(self.x_train.T)\n",
    "        dist = -2*xy_dist + self.y_dist + x_dist.reshape(-1, 1)\n",
    "        distance = np.sqrt(dist)\n",
    "        predict = self.y_train[np.argsort(distance)[:, :self.neighbors]]\n",
    "        return stats.mode(predict.T)[0].reshape(-1)\n",
    "    \n",
    "    def predict_proba_kdtree(self, X):\n",
    "        X = X.astype(float)\n",
    "        dist, k_pred = self.tree.query(X, k=self.neighbors)\n",
    "        predict = np.zeros((np.shape(X)[0], np.shape(self.y_label)[0]))\n",
    "        for i in range(np.shape(k_pred)[0]):\n",
    "            for j in k_pred[i]:\n",
    "                predict[i][int(self.y_train[j])] += 1\n",
    "        return predict / self.neighbors\n",
    "\n",
    "    def predict_proba_brute(self, X):\n",
    "        X = X.astype(float)\n",
    "        x_dist = (X ** 2).sum(axis=1)\n",
    "        xy_dist = X.dot(self.x_train.T)\n",
    "        dist = -2*xy_dist + self.y_dist + x_dist.reshape(-1, 1)\n",
    "        distance = np.sqrt(dist)\n",
    "\n",
    "        k_pred = np.argsort(distance)[:, :self.neighbors]\n",
    "        predict = np.zeros((np.shape(X)[0], np.shape(self.y_label)[0]))\n",
    "        for i in range(np.shape(k_pred)[0]):\n",
    "            for j in k_pred[i]:\n",
    "                predict[i][int(self.y_train[j])] += 1\n",
    "        return predict / self.neighbors\n",
    "\n",
    "    def score(self, X, y):\n",
    "        y_pred = self.predict(X)\n",
    "        return np.array([1 for i, x in enumerate(y_pred)\n",
    "                        if x == y[i]]).sum(axis=0) / len(y)"
   ]
  },
  {
   "cell_type": "markdown",
   "metadata": {},
   "source": [
    "**IRIS**"
   ]
  },
  {
   "cell_type": "code",
   "execution_count": 4,
   "metadata": {},
   "outputs": [],
   "source": [
    "iris = datasets.load_iris()"
   ]
  },
  {
   "cell_type": "code",
   "execution_count": 37,
   "metadata": {},
   "outputs": [],
   "source": [
    "X_train, X_test, y_train, y_test = train_test_split(iris.data, iris.target, test_size=0.1, stratify=iris.target)"
   ]
  },
  {
   "cell_type": "code",
   "execution_count": 38,
   "metadata": {},
   "outputs": [],
   "source": [
    "clf = KNeighborsClassifier(n_neighbors=2)\n",
    "my_clf = MyKNeighborsClassifier(n_neighbors=2)"
   ]
  },
  {
   "cell_type": "code",
   "execution_count": 39,
   "metadata": {},
   "outputs": [
    {
     "name": "stdout",
     "output_type": "stream",
     "text": [
      "CPU times: user 2.06 ms, sys: 14 µs, total: 2.07 ms\n",
      "Wall time: 1.62 ms\n"
     ]
    },
    {
     "data": {
      "text/plain": [
       "KNeighborsClassifier(algorithm='auto', leaf_size=30, metric='minkowski',\n",
       "           metric_params=None, n_jobs=1, n_neighbors=2, p=2,\n",
       "           weights='uniform')"
      ]
     },
     "execution_count": 39,
     "metadata": {},
     "output_type": "execute_result"
    }
   ],
   "source": [
    "%time clf.fit(X_train, y_train)"
   ]
  },
  {
   "cell_type": "code",
   "execution_count": 40,
   "metadata": {},
   "outputs": [
    {
     "name": "stdout",
     "output_type": "stream",
     "text": [
      "CPU times: user 349 µs, sys: 52 µs, total: 401 µs\n",
      "Wall time: 336 µs\n"
     ]
    }
   ],
   "source": [
    "%time my_clf.fit(X_train, y_train)"
   ]
  },
  {
   "cell_type": "code",
   "execution_count": 41,
   "metadata": {},
   "outputs": [
    {
     "name": "stdout",
     "output_type": "stream",
     "text": [
      "CPU times: user 3.78 ms, sys: 974 µs, total: 4.76 ms\n",
      "Wall time: 3.67 ms\n"
     ]
    },
    {
     "data": {
      "text/plain": [
       "array([2, 0, 2, 0, 0, 0, 1, 2, 2, 2, 1, 1, 0, 1, 2])"
      ]
     },
     "execution_count": 41,
     "metadata": {},
     "output_type": "execute_result"
    }
   ],
   "source": [
    "%time clf.predict(X_test)"
   ]
  },
  {
   "cell_type": "code",
   "execution_count": 42,
   "metadata": {},
   "outputs": [
    {
     "name": "stdout",
     "output_type": "stream",
     "text": [
      "CPU times: user 1.94 ms, sys: 977 µs, total: 2.92 ms\n",
      "Wall time: 1.89 ms\n"
     ]
    },
    {
     "data": {
      "text/plain": [
       "array([2, 0, 2, 0, 0, 0, 1, 2, 2, 2, 1, 1, 0, 1, 2])"
      ]
     },
     "execution_count": 42,
     "metadata": {},
     "output_type": "execute_result"
    }
   ],
   "source": [
    "%time my_clf.predict(X_test)"
   ]
  },
  {
   "cell_type": "code",
   "execution_count": 43,
   "metadata": {},
   "outputs": [
    {
     "name": "stdout",
     "output_type": "stream",
     "text": [
      "CPU times: user 1.66 ms, sys: 0 ns, total: 1.66 ms\n",
      "Wall time: 1.59 ms\n"
     ]
    },
    {
     "data": {
      "text/plain": [
       "array([[0., 0., 1.],\n",
       "       [1., 0., 0.],\n",
       "       [0., 0., 1.],\n",
       "       [1., 0., 0.],\n",
       "       [1., 0., 0.],\n",
       "       [1., 0., 0.],\n",
       "       [0., 1., 0.],\n",
       "       [0., 0., 1.],\n",
       "       [0., 0., 1.],\n",
       "       [0., 0., 1.],\n",
       "       [0., 1., 0.],\n",
       "       [0., 1., 0.],\n",
       "       [1., 0., 0.],\n",
       "       [0., 1., 0.],\n",
       "       [0., 0., 1.]])"
      ]
     },
     "execution_count": 43,
     "metadata": {},
     "output_type": "execute_result"
    }
   ],
   "source": [
    "%time clf.predict_proba(X_test)"
   ]
  },
  {
   "cell_type": "code",
   "execution_count": 44,
   "metadata": {},
   "outputs": [
    {
     "name": "stdout",
     "output_type": "stream",
     "text": [
      "CPU times: user 1.57 ms, sys: 1.77 ms, total: 3.34 ms\n",
      "Wall time: 2.03 ms\n"
     ]
    },
    {
     "data": {
      "text/plain": [
       "array([[0., 0., 1.],\n",
       "       [1., 0., 0.],\n",
       "       [0., 0., 1.],\n",
       "       [1., 0., 0.],\n",
       "       [1., 0., 0.],\n",
       "       [1., 0., 0.],\n",
       "       [0., 1., 0.],\n",
       "       [0., 0., 1.],\n",
       "       [0., 0., 1.],\n",
       "       [0., 0., 1.],\n",
       "       [0., 1., 0.],\n",
       "       [0., 1., 0.],\n",
       "       [1., 0., 0.],\n",
       "       [0., 1., 0.],\n",
       "       [0., 0., 1.]])"
      ]
     },
     "execution_count": 44,
     "metadata": {},
     "output_type": "execute_result"
    }
   ],
   "source": [
    "%time my_clf.predict_proba(X_test)"
   ]
  },
  {
   "cell_type": "code",
   "execution_count": 45,
   "metadata": {},
   "outputs": [
    {
     "data": {
      "text/plain": [
       "0.9333333333333333"
      ]
     },
     "execution_count": 45,
     "metadata": {},
     "output_type": "execute_result"
    }
   ],
   "source": [
    "clf.score(X_test, y_test)"
   ]
  },
  {
   "cell_type": "code",
   "execution_count": 46,
   "metadata": {},
   "outputs": [
    {
     "data": {
      "text/plain": [
       "0.9333333333333333"
      ]
     },
     "execution_count": 46,
     "metadata": {},
     "output_type": "execute_result"
    }
   ],
   "source": [
    "my_clf.score(X_test, y_test)"
   ]
  },
  {
   "cell_type": "markdown",
   "metadata": {},
   "source": [
    "Задание 3"
   ]
  },
  {
   "cell_type": "code",
   "execution_count": 49,
   "metadata": {},
   "outputs": [
    {
     "name": "stderr",
     "output_type": "stream",
     "text": [
      "/home/Albert/anaconda3/lib/python3.6/site-packages/ipykernel_launcher.py:36: RuntimeWarning: invalid value encountered in sqrt\n"
     ]
    },
    {
     "name": "stdout",
     "output_type": "stream",
     "text": [
      "Best number of neigbors is 19\n"
     ]
    },
    {
     "data": {
      "image/png": "[encoded data removed]",
      "text/plain": [
       "<Figure size 432x288 with 1 Axes>"
      ]
     },
     "metadata": {},
     "output_type": "display_data"
    }
   ],
   "source": [
    "#%%pycodestyle\n",
    "n_neighbors = 30\n",
    "num_of_tests = 100\n",
    "scores = []\n",
    "\n",
    "for i in range(1, n_neighbors+1):\n",
    "    testing_scores = []\n",
    "    for j in range(num_of_tests):\n",
    "        X_train, X_test, y_train, y_test = train_test_split(\n",
    "            iris.data, iris.target,\n",
    "            test_size=0.1, stratify=iris.target\n",
    "        )\n",
    "        my_clf = MyKNeighborsClassifier(n_neighbors=i)\n",
    "        my_clf.fit(X_train, y_train)\n",
    "        testing_scores.append(my_clf.score(X_test, y_test))\n",
    "    scores.append(np.mean(testing_scores))\n",
    "\n",
    "best_n = np.argmax(scores) + 1\n",
    "print(\"Best number of neigbors is {}\".format(best_n))\n",
    "\n",
    "plt.plot(list(range(1, n_neighbors+1)), scores, 'ro-')\n",
    "plt.show()"
   ]
  },
  {
   "cell_type": "markdown",
   "metadata": {},
   "source": [
    "**MNIST**"
   ]
  },
  {
   "cell_type": "code",
   "execution_count": 4,
   "metadata": {},
   "outputs": [],
   "source": [
    "mnist = fetch_mldata('MNIST original')"
   ]
  },
  {
   "cell_type": "code",
   "execution_count": 51,
   "metadata": {},
   "outputs": [],
   "source": [
    "X_train, X_test, y_train, y_test = train_test_split(mnist.data, mnist.target, test_size=0.01, stratify=mnist.target)"
   ]
  },
  {
   "cell_type": "code",
   "execution_count": 52,
   "metadata": {},
   "outputs": [],
   "source": [
    "clf = KNeighborsClassifier(n_neighbors=2)\n",
    "my_clf = MyKNeighborsClassifier(n_neighbors=2)"
   ]
  },
  {
   "cell_type": "code",
   "execution_count": 53,
   "metadata": {},
   "outputs": [
    {
     "name": "stdout",
     "output_type": "stream",
     "text": [
      "CPU times: user 3min 9s, sys: 712 ms, total: 3min 9s\n",
      "Wall time: 3min 12s\n"
     ]
    },
    {
     "data": {
      "text/plain": [
       "KNeighborsClassifier(algorithm='auto', leaf_size=30, metric='minkowski',\n",
       "           metric_params=None, n_jobs=1, n_neighbors=2, p=2,\n",
       "           weights='uniform')"
      ]
     },
     "execution_count": 53,
     "metadata": {},
     "output_type": "execute_result"
    }
   ],
   "source": [
    "%time clf.fit(X_train, y_train)"
   ]
  },
  {
   "cell_type": "code",
   "execution_count": 54,
   "metadata": {},
   "outputs": [
    {
     "name": "stdout",
     "output_type": "stream",
     "text": [
      "CPU times: user 1.4 s, sys: 825 ms, total: 2.23 s\n",
      "Wall time: 920 ms\n"
     ]
    }
   ],
   "source": [
    "%time my_clf.fit(X_train, y_train)"
   ]
  },
  {
   "cell_type": "code",
   "execution_count": 55,
   "metadata": {},
   "outputs": [
    {
     "name": "stdout",
     "output_type": "stream",
     "text": [
      "CPU times: user 4min 22s, sys: 5.85 ms, total: 4min 22s\n",
      "Wall time: 4min 27s\n"
     ]
    },
    {
     "data": {
      "text/plain": [
       "array([2., 7., 9., 4., 5., 9., 0., 7., 3., 4., 5., 1., 6., 7., 4., 4., 4.,\n",
       "       3., 7., 0., 1., 1., 8., 8., 7., 5., 6., 1., 2., 4., 5., 3., 2., 9.,\n",
       "       6., 9., 1., 3., 5., 7., 9., 2., 9., 4., 5., 1., 1., 7., 4., 7., 0.,\n",
       "       4., 4., 1., 5., 1., 1., 0., 6., 6., 3., 6., 0., 7., 4., 8., 1., 0.,\n",
       "       9., 4., 2., 5., 1., 7., 3., 7., 2., 3., 7., 9., 8., 7., 8., 1., 6.,\n",
       "       1., 6., 2., 2., 2., 5., 2., 2., 5., 0., 4., 8., 0., 9., 7., 0., 2.,\n",
       "       1., 5., 8., 6., 0., 1., 2., 6., 3., 5., 3., 0., 8., 4., 4., 5., 1.,\n",
       "       1., 0., 0., 3., 3., 1., 3., 4., 7., 0., 0., 4., 8., 5., 0., 3., 5.,\n",
       "       7., 8., 7., 5., 2., 4., 8., 5., 4., 3., 3., 0., 9., 6., 4., 2., 0.,\n",
       "       6., 9., 1., 4., 8., 0., 1., 4., 0., 1., 5., 6., 2., 8., 6., 4., 7.,\n",
       "       1., 6., 3., 5., 1., 3., 9., 6., 0., 1., 1., 0., 1., 5., 9., 8., 5.,\n",
       "       6., 2., 9., 2., 8., 3., 7., 4., 2., 2., 3., 8., 2., 2., 3., 5., 6.,\n",
       "       5., 5., 4., 4., 4., 9., 8., 4., 2., 1., 7., 9., 3., 5., 2., 8., 9.,\n",
       "       8., 0., 6., 0., 4., 3., 4., 9., 8., 1., 9., 8., 1., 0., 5., 6., 3.,\n",
       "       3., 0., 2., 4., 4., 6., 6., 4., 1., 2., 7., 0., 5., 2., 8., 1., 2.,\n",
       "       1., 1., 3., 9., 9., 2., 5., 9., 1., 4., 6., 7., 3., 1., 6., 2., 0.,\n",
       "       9., 5., 8., 9., 1., 7., 6., 9., 2., 9., 9., 4., 9., 7., 2., 2., 5.,\n",
       "       3., 1., 2., 2., 0., 5., 7., 0., 0., 1., 0., 7., 2., 4., 5., 2., 3.,\n",
       "       7., 4., 0., 7., 0., 8., 9., 6., 3., 1., 2., 5., 1., 4., 3., 3., 3.,\n",
       "       1., 9., 3., 0., 2., 3., 1., 2., 1., 7., 8., 9., 3., 0., 8., 4., 3.,\n",
       "       0., 9., 9., 6., 3., 2., 1., 7., 4., 0., 4., 2., 1., 8., 0., 8., 5.,\n",
       "       2., 1., 5., 7., 0., 0., 3., 5., 6., 1., 0., 6., 5., 4., 9., 1., 6.,\n",
       "       4., 3., 6., 9., 3., 3., 5., 4., 4., 5., 1., 9., 3., 4., 8., 2., 9.,\n",
       "       8., 2., 0., 1., 1., 3., 2., 2., 2., 6., 2., 9., 1., 6., 7., 4., 4.,\n",
       "       7., 2., 4., 8., 0., 1., 4., 3., 5., 8., 9., 3., 3., 9., 6., 5., 1.,\n",
       "       1., 8., 5., 8., 4., 8., 7., 9., 7., 7., 7., 9., 3., 7., 4., 3., 7.,\n",
       "       7., 7., 9., 7., 6., 1., 1., 6., 0., 2., 8., 7., 1., 0., 0., 9., 6.,\n",
       "       1., 2., 8., 7., 6., 5., 6., 5., 2., 4., 9., 2., 1., 3., 1., 4., 6.,\n",
       "       6., 3., 1., 8., 1., 5., 7., 2., 0., 9., 8., 1., 4., 1., 8., 1., 6.,\n",
       "       9., 9., 5., 9., 6., 6., 2., 3., 8., 7., 2., 7., 2., 4., 7., 3., 2.,\n",
       "       5., 1., 2., 3., 2., 0., 9., 4., 8., 3., 8., 1., 0., 0., 9., 5., 3.,\n",
       "       6., 9., 4., 6., 4., 7., 5., 1., 7., 6., 0., 4., 9., 7., 8., 5., 0.,\n",
       "       7., 6., 1., 6., 2., 7., 5., 5., 8., 7., 1., 6., 8., 8., 1., 3., 7.,\n",
       "       5., 3., 3., 7., 8., 4., 9., 7., 4., 9., 7., 7., 4., 6., 8., 7., 9.,\n",
       "       3., 5., 0., 3., 6., 8., 1., 5., 3., 8., 3., 7., 1., 7., 8., 9., 6.,\n",
       "       3., 8., 2., 2., 6., 0., 0., 9., 2., 7., 6., 6., 8., 9., 6., 7., 4.,\n",
       "       6., 0., 1., 7., 3., 9., 3., 5., 0., 0., 2., 5., 4., 4., 7., 8., 8.,\n",
       "       5., 0., 3., 7., 6., 4., 7., 3., 8., 8., 9., 6., 6., 8., 0., 2., 2.,\n",
       "       8., 7., 2., 1., 9., 0., 0., 0., 9., 6., 4., 0., 7., 2., 2., 0., 1.,\n",
       "       3., 8., 2., 0., 8., 0., 4., 4., 3., 3., 9., 5., 3., 1., 6., 1., 5.,\n",
       "       9., 4., 6., 8., 8., 1., 7., 7., 1., 7., 7., 6., 8., 7., 1., 0., 9.,\n",
       "       6., 6., 1.])"
      ]
     },
     "execution_count": 55,
     "metadata": {},
     "output_type": "execute_result"
    }
   ],
   "source": [
    "%time clf.predict(X_test)"
   ]
  },
  {
   "cell_type": "code",
   "execution_count": 56,
   "metadata": {},
   "outputs": [
    {
     "name": "stdout",
     "output_type": "stream",
     "text": [
      "CPU times: user 46.5 s, sys: 2.2 s, total: 48.7 s\n",
      "Wall time: 21.2 s\n"
     ]
    },
    {
     "data": {
      "text/plain": [
       "array([2., 7., 9., 4., 5., 9., 0., 7., 3., 4., 5., 1., 6., 7., 4., 4., 4.,\n",
       "       3., 7., 0., 1., 1., 8., 8., 7., 5., 6., 1., 2., 4., 5., 3., 2., 9.,\n",
       "       6., 9., 1., 3., 5., 7., 9., 2., 9., 4., 5., 1., 1., 7., 4., 7., 0.,\n",
       "       4., 4., 1., 5., 1., 1., 0., 6., 6., 3., 6., 0., 7., 4., 8., 1., 0.,\n",
       "       9., 4., 2., 5., 1., 7., 3., 7., 2., 3., 7., 9., 8., 7., 8., 1., 6.,\n",
       "       1., 6., 2., 2., 2., 5., 2., 2., 5., 0., 4., 8., 0., 9., 7., 0., 2.,\n",
       "       1., 5., 8., 6., 0., 1., 2., 6., 3., 5., 3., 0., 8., 4., 4., 5., 1.,\n",
       "       1., 0., 0., 3., 3., 1., 3., 4., 7., 0., 0., 4., 8., 5., 0., 3., 5.,\n",
       "       7., 8., 7., 5., 2., 4., 8., 5., 4., 3., 3., 0., 9., 6., 4., 2., 0.,\n",
       "       6., 9., 1., 4., 8., 0., 1., 4., 0., 1., 5., 6., 2., 8., 6., 4., 7.,\n",
       "       1., 6., 3., 5., 1., 3., 9., 6., 0., 1., 1., 0., 1., 5., 9., 8., 5.,\n",
       "       6., 2., 9., 2., 8., 3., 7., 4., 2., 2., 3., 8., 2., 2., 3., 5., 6.,\n",
       "       5., 5., 4., 4., 4., 9., 8., 4., 2., 1., 7., 9., 3., 5., 2., 8., 9.,\n",
       "       8., 0., 6., 0., 4., 3., 4., 9., 8., 1., 9., 8., 1., 0., 5., 6., 3.,\n",
       "       3., 0., 2., 4., 4., 6., 6., 4., 1., 2., 7., 0., 5., 2., 8., 1., 2.,\n",
       "       1., 1., 3., 9., 9., 2., 5., 9., 1., 4., 6., 7., 3., 1., 6., 2., 0.,\n",
       "       9., 5., 8., 9., 1., 7., 6., 9., 2., 9., 9., 4., 9., 7., 2., 2., 5.,\n",
       "       3., 1., 2., 2., 0., 5., 7., 0., 0., 1., 0., 7., 2., 4., 5., 2., 3.,\n",
       "       7., 4., 0., 7., 0., 8., 9., 6., 3., 1., 2., 5., 1., 4., 3., 3., 3.,\n",
       "       1., 9., 3., 0., 2., 3., 1., 2., 1., 7., 8., 9., 3., 0., 8., 4., 3.,\n",
       "       0., 9., 9., 6., 3., 2., 1., 7., 4., 0., 4., 2., 1., 8., 0., 8., 5.,\n",
       "       2., 1., 5., 7., 0., 0., 3., 5., 6., 1., 0., 6., 5., 4., 9., 1., 6.,\n",
       "       4., 3., 6., 9., 3., 3., 5., 4., 4., 5., 1., 9., 3., 4., 8., 2., 9.,\n",
       "       8., 2., 0., 1., 1., 3., 2., 2., 2., 6., 2., 9., 1., 6., 7., 4., 4.,\n",
       "       7., 2., 4., 8., 0., 1., 4., 3., 5., 8., 9., 3., 3., 9., 6., 5., 1.,\n",
       "       1., 8., 5., 8., 4., 8., 7., 9., 7., 7., 7., 9., 3., 7., 4., 3., 7.,\n",
       "       7., 7., 9., 7., 6., 1., 1., 6., 0., 2., 8., 7., 1., 0., 0., 9., 6.,\n",
       "       1., 2., 8., 7., 6., 5., 6., 5., 2., 4., 9., 2., 1., 3., 1., 4., 6.,\n",
       "       6., 3., 1., 8., 1., 5., 7., 2., 0., 9., 8., 1., 4., 1., 8., 1., 6.,\n",
       "       9., 9., 5., 9., 6., 6., 2., 3., 8., 7., 2., 7., 2., 4., 7., 3., 2.,\n",
       "       5., 1., 2., 3., 2., 0., 9., 4., 8., 3., 8., 1., 0., 0., 9., 5., 3.,\n",
       "       6., 9., 4., 6., 4., 7., 5., 1., 7., 6., 0., 4., 9., 7., 8., 5., 0.,\n",
       "       7., 6., 1., 6., 2., 7., 5., 5., 8., 7., 1., 6., 8., 8., 1., 3., 7.,\n",
       "       5., 3., 3., 7., 8., 4., 9., 7., 4., 9., 7., 7., 4., 6., 8., 7., 9.,\n",
       "       3., 5., 0., 3., 6., 8., 1., 5., 3., 8., 3., 7., 1., 7., 8., 9., 6.,\n",
       "       3., 8., 2., 2., 6., 0., 0., 9., 2., 7., 6., 6., 8., 9., 6., 7., 4.,\n",
       "       6., 0., 1., 7., 3., 9., 3., 5., 0., 0., 2., 5., 4., 4., 7., 8., 8.,\n",
       "       5., 0., 3., 7., 6., 4., 7., 3., 8., 8., 9., 6., 6., 8., 0., 2., 2.,\n",
       "       8., 7., 2., 1., 9., 0., 0., 0., 9., 6., 4., 0., 7., 2., 2., 0., 1.,\n",
       "       3., 8., 2., 0., 8., 0., 4., 4., 3., 3., 9., 5., 3., 1., 6., 1., 5.,\n",
       "       9., 4., 6., 8., 8., 1., 7., 7., 1., 7., 7., 6., 8., 7., 1., 0., 9.,\n",
       "       6., 6., 1.])"
      ]
     },
     "execution_count": 56,
     "metadata": {},
     "output_type": "execute_result"
    }
   ],
   "source": [
    "%time my_clf.predict(X_test)"
   ]
  },
  {
   "cell_type": "code",
   "execution_count": 57,
   "metadata": {},
   "outputs": [
    {
     "name": "stdout",
     "output_type": "stream",
     "text": [
      "CPU times: user 4min 21s, sys: 27 ms, total: 4min 21s\n",
      "Wall time: 4min 25s\n"
     ]
    },
    {
     "data": {
      "text/plain": [
       "array([[0., 0., 1., ..., 0., 0., 0.],\n",
       "       [0., 0., 0., ..., 1., 0., 0.],\n",
       "       [0., 0., 0., ..., 0., 0., 1.],\n",
       "       ...,\n",
       "       [0., 0., 0., ..., 0., 0., 0.],\n",
       "       [0., 0., 0., ..., 0., 0., 0.],\n",
       "       [0., 1., 0., ..., 0., 0., 0.]])"
      ]
     },
     "execution_count": 57,
     "metadata": {},
     "output_type": "execute_result"
    }
   ],
   "source": [
    "%time clf.predict_proba(X_test)"
   ]
  },
  {
   "cell_type": "code",
   "execution_count": 58,
   "metadata": {},
   "outputs": [
    {
     "name": "stdout",
     "output_type": "stream",
     "text": [
      "CPU times: user 46.4 s, sys: 2.14 s, total: 48.5 s\n",
      "Wall time: 20.7 s\n"
     ]
    },
    {
     "data": {
      "text/plain": [
       "array([[0., 0., 1., ..., 0., 0., 0.],\n",
       "       [0., 0., 0., ..., 1., 0., 0.],\n",
       "       [0., 0., 0., ..., 0., 0., 1.],\n",
       "       ...,\n",
       "       [0., 0., 0., ..., 0., 0., 0.],\n",
       "       [0., 0., 0., ..., 0., 0., 0.],\n",
       "       [0., 1., 0., ..., 0., 0., 0.]])"
      ]
     },
     "execution_count": 58,
     "metadata": {},
     "output_type": "execute_result"
    }
   ],
   "source": [
    "%time my_clf.predict_proba(X_test)"
   ]
  },
  {
   "cell_type": "code",
   "execution_count": 59,
   "metadata": {},
   "outputs": [
    {
     "data": {
      "text/plain": [
       "0.9685714285714285"
      ]
     },
     "execution_count": 59,
     "metadata": {},
     "output_type": "execute_result"
    }
   ],
   "source": [
    "clf.score(X_test, y_test)"
   ]
  },
  {
   "cell_type": "code",
   "execution_count": 60,
   "metadata": {},
   "outputs": [
    {
     "data": {
      "text/plain": [
       "0.9685714285714285"
      ]
     },
     "execution_count": 60,
     "metadata": {},
     "output_type": "execute_result"
    }
   ],
   "source": [
    "my_clf.score(X_test, y_test)"
   ]
  },
  {
   "cell_type": "markdown",
   "metadata": {},
   "source": [
    "Задание 4"
   ]
  },
  {
   "cell_type": "code",
   "execution_count": 15,
   "metadata": {},
   "outputs": [],
   "source": [
    "clf = KNeighborsClassifier(n_neighbors=19, algorithm='kd_tree')\n",
    "my_clf = MyKNeighborsClassifier(n_neighbors=19, algorithm='kd_tree')"
   ]
  },
  {
   "cell_type": "code",
   "execution_count": 5,
   "metadata": {},
   "outputs": [],
   "source": [
    "X_train, X_test, y_train, y_test = train_test_split(mnist.data, mnist.target, test_size=0.01, stratify=mnist.target)"
   ]
  },
  {
   "cell_type": "code",
   "execution_count": 8,
   "metadata": {},
   "outputs": [
    {
     "name": "stdout",
     "output_type": "stream",
     "text": [
      "CPU times: user 2min 55s, sys: 679 ms, total: 2min 56s\n",
      "Wall time: 2min 57s\n"
     ]
    },
    {
     "data": {
      "text/plain": [
       "KNeighborsClassifier(algorithm='kd_tree', leaf_size=30, metric='minkowski',\n",
       "           metric_params=None, n_jobs=1, n_neighbors=19, p=2,\n",
       "           weights='uniform')"
      ]
     },
     "execution_count": 8,
     "metadata": {},
     "output_type": "execute_result"
    }
   ],
   "source": [
    "%time clf.fit(X_train, y_train)"
   ]
  },
  {
   "cell_type": "code",
   "execution_count": 16,
   "metadata": {},
   "outputs": [
    {
     "name": "stdout",
     "output_type": "stream",
     "text": [
      "CPU times: user 2min 56s, sys: 1.32 s, total: 2min 58s\n",
      "Wall time: 2min 58s\n"
     ]
    }
   ],
   "source": [
    "%time my_clf.fit(X_train, y_train)"
   ]
  },
  {
   "cell_type": "code",
   "execution_count": 9,
   "metadata": {},
   "outputs": [
    {
     "name": "stdout",
     "output_type": "stream",
     "text": [
      "CPU times: user 3min 50s, sys: 38.9 ms, total: 3min 50s\n",
      "Wall time: 3min 54s\n"
     ]
    },
    {
     "data": {
      "text/plain": [
       "array([1., 6., 9., 9., 4., 8., 3., 3., 1., 0., 7., 2., 5., 0., 4., 1., 4.,\n",
       "       1., 8., 3., 1., 4., 2., 1., 8., 1., 5., 7., 8., 5., 5., 3., 7., 6.,\n",
       "       2., 1., 0., 3., 3., 5., 0., 1., 0., 1., 4., 7., 2., 6., 5., 0., 9.,\n",
       "       7., 6., 7., 2., 2., 6., 8., 1., 6., 5., 5., 5., 2., 0., 0., 0., 9.,\n",
       "       3., 4., 5., 9., 9., 4., 0., 3., 3., 4., 8., 1., 8., 6., 9., 1., 3.,\n",
       "       4., 8., 5., 3., 7., 3., 1., 6., 3., 9., 6., 5., 9., 9., 0., 9., 2.,\n",
       "       7., 6., 2., 3., 6., 7., 3., 0., 3., 7., 0., 4., 4., 9., 1., 3., 4.,\n",
       "       3., 9., 6., 2., 4., 1., 5., 2., 6., 9., 7., 3., 9., 7., 4., 1., 5.,\n",
       "       4., 2., 1., 7., 1., 2., 3., 9., 7., 1., 7., 9., 8., 6., 5., 4., 1.,\n",
       "       6., 4., 6., 4., 6., 6., 9., 6., 7., 2., 8., 1., 1., 5., 3., 6., 9.,\n",
       "       8., 9., 4., 2., 4., 8., 5., 3., 2., 4., 6., 9., 8., 9., 8., 7., 7.,\n",
       "       1., 7., 4., 7., 7., 0., 4., 0., 9., 4., 4., 7., 0., 4., 5., 5., 6.,\n",
       "       0., 3., 4., 5., 0., 3., 6., 3., 4., 8., 3., 6., 8., 5., 2., 3., 5.,\n",
       "       7., 5., 6., 2., 4., 2., 1., 5., 4., 8., 6., 8., 3., 5., 7., 5., 0.,\n",
       "       7., 2., 1., 4., 5., 1., 9., 6., 3., 0., 7., 9., 7., 7., 6., 9., 2.,\n",
       "       0., 5., 6., 9., 3., 4., 3., 2., 3., 6., 4., 7., 9., 4., 3., 5., 3.,\n",
       "       1., 6., 7., 1., 0., 6., 6., 0., 1., 9., 5., 0., 1., 6., 2., 3., 2.,\n",
       "       2., 8., 6., 5., 7., 0., 8., 9., 8., 7., 2., 9., 9., 1., 2., 3., 7.,\n",
       "       3., 7., 0., 9., 1., 6., 3., 7., 6., 7., 5., 8., 7., 7., 5., 6., 7.,\n",
       "       0., 1., 5., 9., 6., 2., 9., 3., 3., 4., 9., 1., 4., 0., 8., 3., 8.,\n",
       "       9., 6., 1., 3., 5., 4., 4., 5., 9., 3., 8., 5., 6., 0., 8., 1., 3.,\n",
       "       1., 5., 8., 0., 3., 0., 4., 1., 0., 1., 8., 8., 1., 5., 2., 9., 9.,\n",
       "       4., 1., 3., 2., 0., 5., 3., 7., 8., 7., 0., 0., 3., 1., 1., 2., 6.,\n",
       "       0., 2., 3., 4., 0., 1., 8., 3., 3., 3., 4., 9., 4., 1., 8., 8., 6.,\n",
       "       8., 8., 8., 4., 2., 2., 7., 0., 6., 6., 0., 7., 3., 7., 9., 0., 9.,\n",
       "       5., 9., 4., 0., 0., 7., 1., 7., 8., 5., 3., 3., 4., 0., 5., 8., 8.,\n",
       "       1., 1., 1., 5., 9., 0., 0., 1., 2., 1., 1., 3., 0., 1., 1., 2., 1.,\n",
       "       8., 6., 4., 8., 1., 9., 3., 8., 1., 8., 1., 7., 2., 8., 8., 7., 9.,\n",
       "       1., 0., 9., 2., 7., 7., 0., 6., 5., 5., 1., 1., 1., 9., 0., 6., 1.,\n",
       "       8., 5., 2., 7., 9., 6., 9., 9., 9., 2., 2., 8., 5., 0., 9., 2., 2.,\n",
       "       2., 7., 2., 4., 9., 6., 7., 8., 6., 5., 7., 7., 2., 5., 1., 8., 4.,\n",
       "       2., 2., 0., 0., 6., 1., 4., 6., 3., 0., 4., 1., 8., 4., 0., 1., 6.,\n",
       "       8., 3., 3., 4., 8., 5., 7., 7., 6., 1., 8., 1., 1., 8., 2., 2., 6.,\n",
       "       3., 3., 2., 0., 9., 3., 4., 2., 0., 4., 7., 0., 1., 2., 7., 2., 4.,\n",
       "       7., 6., 7., 6., 4., 3., 7., 1., 3., 5., 8., 7., 5., 2., 4., 3., 1.,\n",
       "       8., 1., 7., 8., 6., 2., 9., 0., 8., 8., 4., 5., 2., 0., 5., 1., 3.,\n",
       "       9., 1., 1., 9., 0., 5., 1., 5., 7., 7., 0., 9., 7., 6., 4., 1., 3.,\n",
       "       6., 9., 9., 6., 4., 5., 1., 1., 7., 0., 5., 2., 4., 0., 0., 2., 5.,\n",
       "       5., 9., 6., 2., 1., 1., 2., 2., 3., 1., 4., 0., 1., 9., 3., 6., 9.,\n",
       "       8., 2., 0., 7., 7., 4., 5., 7., 7., 0., 4., 6., 2., 5., 2., 9., 4.,\n",
       "       8., 9., 6., 9., 7., 0., 3., 0., 6., 1., 4., 9., 6., 0., 8., 9., 6.,\n",
       "       3., 5., 3.])"
      ]
     },
     "execution_count": 9,
     "metadata": {},
     "output_type": "execute_result"
    }
   ],
   "source": [
    "%time clf.predict(X_test)"
   ]
  },
  {
   "cell_type": "code",
   "execution_count": 7,
   "metadata": {},
   "outputs": [
    {
     "name": "stdout",
     "output_type": "stream",
     "text": [
      "CPU times: user 3min 14s, sys: 29.1 ms, total: 3min 14s\n",
      "Wall time: 3min 17s\n"
     ]
    },
    {
     "data": {
      "text/plain": [
       "array([1., 6., 9., 9., 4., 8., 3., 3., 1., 0., 7., 2., 5., 0., 4., 1., 4.,\n",
       "       1., 8., 3., 1., 4., 2., 1., 8., 1., 5., 7., 8., 5., 5., 3., 7., 6.,\n",
       "       2., 1., 0., 3., 3., 5., 0., 1., 0., 1., 4., 7., 2., 6., 5., 0., 9.,\n",
       "       7., 6., 7., 2., 2., 6., 8., 1., 6., 5., 5., 5., 2., 0., 0., 0., 9.,\n",
       "       3., 4., 5., 9., 9., 4., 0., 3., 3., 4., 8., 1., 8., 6., 9., 1., 3.,\n",
       "       4., 8., 5., 3., 7., 3., 1., 6., 3., 9., 6., 5., 9., 9., 0., 9., 2.,\n",
       "       7., 6., 2., 3., 6., 7., 3., 0., 3., 7., 0., 4., 4., 9., 1., 3., 4.,\n",
       "       3., 9., 6., 2., 4., 1., 5., 2., 6., 9., 7., 3., 9., 7., 4., 1., 5.,\n",
       "       4., 2., 1., 7., 1., 2., 3., 9., 7., 1., 7., 9., 8., 6., 5., 4., 1.,\n",
       "       6., 4., 6., 4., 6., 6., 9., 6., 7., 2., 8., 1., 1., 5., 3., 6., 9.,\n",
       "       8., 9., 4., 2., 4., 8., 5., 3., 2., 4., 6., 9., 8., 9., 8., 7., 7.,\n",
       "       1., 7., 4., 7., 7., 0., 4., 0., 9., 4., 4., 7., 0., 4., 5., 5., 6.,\n",
       "       0., 3., 4., 5., 0., 3., 6., 3., 4., 8., 3., 6., 8., 5., 2., 3., 5.,\n",
       "       7., 5., 6., 2., 4., 2., 1., 5., 4., 8., 6., 8., 3., 5., 7., 5., 0.,\n",
       "       7., 2., 1., 4., 5., 1., 9., 6., 3., 0., 7., 9., 7., 7., 6., 9., 2.,\n",
       "       0., 5., 6., 9., 3., 4., 3., 2., 3., 6., 4., 7., 9., 4., 3., 5., 3.,\n",
       "       1., 6., 7., 1., 0., 6., 6., 0., 1., 9., 5., 0., 1., 6., 2., 3., 2.,\n",
       "       2., 8., 6., 5., 7., 0., 8., 9., 8., 7., 2., 9., 9., 1., 2., 3., 7.,\n",
       "       3., 7., 0., 9., 1., 6., 3., 7., 6., 7., 5., 8., 7., 7., 5., 6., 7.,\n",
       "       0., 1., 5., 9., 6., 2., 9., 3., 3., 4., 9., 1., 4., 0., 8., 3., 8.,\n",
       "       9., 6., 1., 3., 5., 4., 4., 5., 9., 3., 8., 5., 6., 0., 8., 1., 3.,\n",
       "       1., 5., 8., 0., 3., 0., 4., 1., 0., 1., 8., 8., 1., 5., 2., 9., 9.,\n",
       "       4., 1., 3., 2., 0., 5., 3., 7., 8., 7., 0., 0., 3., 1., 1., 2., 6.,\n",
       "       0., 2., 3., 4., 0., 1., 8., 3., 3., 3., 4., 9., 4., 1., 8., 8., 6.,\n",
       "       8., 8., 8., 4., 2., 2., 7., 0., 6., 6., 0., 7., 3., 7., 9., 0., 9.,\n",
       "       5., 9., 4., 0., 0., 7., 1., 7., 8., 5., 3., 3., 4., 0., 5., 8., 8.,\n",
       "       1., 1., 1., 5., 9., 0., 0., 1., 2., 1., 1., 3., 0., 1., 1., 2., 1.,\n",
       "       8., 6., 4., 8., 1., 9., 3., 8., 1., 8., 1., 7., 2., 8., 8., 7., 9.,\n",
       "       1., 0., 9., 2., 7., 7., 0., 6., 5., 5., 1., 1., 1., 9., 0., 6., 1.,\n",
       "       8., 5., 2., 7., 9., 6., 9., 9., 9., 2., 2., 8., 5., 0., 9., 2., 2.,\n",
       "       2., 7., 2., 4., 9., 6., 7., 8., 6., 5., 7., 7., 2., 5., 1., 8., 4.,\n",
       "       2., 2., 0., 0., 6., 1., 4., 6., 3., 0., 4., 1., 8., 4., 0., 1., 6.,\n",
       "       8., 3., 3., 4., 8., 5., 7., 7., 6., 1., 8., 1., 1., 8., 2., 2., 6.,\n",
       "       3., 3., 2., 0., 9., 3., 4., 2., 0., 4., 7., 0., 1., 2., 7., 2., 4.,\n",
       "       7., 6., 7., 6., 4., 3., 7., 1., 3., 5., 8., 7., 5., 2., 4., 3., 1.,\n",
       "       8., 1., 7., 8., 6., 2., 9., 0., 8., 8., 4., 5., 2., 0., 5., 1., 3.,\n",
       "       9., 1., 1., 9., 0., 5., 1., 5., 7., 7., 0., 9., 7., 6., 4., 1., 3.,\n",
       "       6., 9., 9., 6., 4., 5., 1., 1., 7., 0., 5., 2., 4., 0., 0., 2., 5.,\n",
       "       5., 9., 6., 2., 1., 1., 2., 2., 3., 1., 4., 0., 1., 9., 3., 6., 9.,\n",
       "       8., 2., 0., 7., 7., 4., 5., 7., 7., 0., 4., 6., 2., 5., 2., 9., 4.,\n",
       "       8., 9., 6., 9., 7., 0., 3., 0., 6., 1., 4., 9., 6., 0., 8., 9., 6.,\n",
       "       3., 5., 3.])"
      ]
     },
     "execution_count": 7,
     "metadata": {},
     "output_type": "execute_result"
    }
   ],
   "source": [
    "%time my_clf.predict(X_test)"
   ]
  },
  {
   "cell_type": "code",
   "execution_count": 10,
   "metadata": {},
   "outputs": [
    {
     "name": "stdout",
     "output_type": "stream",
     "text": [
      "CPU times: user 3min 51s, sys: 60.6 ms, total: 3min 51s\n",
      "Wall time: 3min 54s\n"
     ]
    },
    {
     "data": {
      "text/plain": [
       "array([[0.        , 1.        , 0.        , ..., 0.        , 0.        ,\n",
       "        0.        ],\n",
       "       [0.        , 0.        , 0.        , ..., 0.        , 0.        ,\n",
       "        0.        ],\n",
       "       [0.        , 0.        , 0.        , ..., 0.10526316, 0.        ,\n",
       "        0.89473684],\n",
       "       ...,\n",
       "       [0.        , 0.        , 0.        , ..., 0.        , 0.        ,\n",
       "        0.        ],\n",
       "       [0.        , 0.        , 0.        , ..., 0.        , 0.        ,\n",
       "        0.        ],\n",
       "       [0.        , 0.        , 0.        , ..., 0.        , 0.        ,\n",
       "        0.        ]])"
      ]
     },
     "execution_count": 10,
     "metadata": {},
     "output_type": "execute_result"
    }
   ],
   "source": [
    "%time clf.predict_proba(X_test)"
   ]
  },
  {
   "cell_type": "code",
   "execution_count": 17,
   "metadata": {},
   "outputs": [
    {
     "name": "stdout",
     "output_type": "stream",
     "text": [
      "CPU times: user 3min 16s, sys: 23.3 ms, total: 3min 16s\n",
      "Wall time: 3min 19s\n"
     ]
    },
    {
     "data": {
      "text/plain": [
       "array([[0.        , 1.        , 0.        , ..., 0.        , 0.        ,\n",
       "        0.        ],\n",
       "       [0.        , 0.        , 0.        , ..., 0.        , 0.        ,\n",
       "        0.        ],\n",
       "       [0.        , 0.        , 0.        , ..., 0.10526316, 0.        ,\n",
       "        0.89473684],\n",
       "       ...,\n",
       "       [0.        , 0.        , 0.        , ..., 0.        , 0.        ,\n",
       "        0.        ],\n",
       "       [0.        , 0.        , 0.        , ..., 0.        , 0.        ,\n",
       "        0.        ],\n",
       "       [0.        , 0.        , 0.        , ..., 0.        , 0.        ,\n",
       "        0.        ]])"
      ]
     },
     "execution_count": 17,
     "metadata": {},
     "output_type": "execute_result"
    }
   ],
   "source": [
    "%time my_clf.predict_proba(X_test)"
   ]
  },
  {
   "cell_type": "code",
   "execution_count": 12,
   "metadata": {},
   "outputs": [
    {
     "data": {
      "text/plain": [
       "0.9628571428571429"
      ]
     },
     "execution_count": 12,
     "metadata": {},
     "output_type": "execute_result"
    }
   ],
   "source": [
    "clf.score(X_test, y_test)"
   ]
  },
  {
   "cell_type": "code",
   "execution_count": 13,
   "metadata": {},
   "outputs": [
    {
     "data": {
      "text/plain": [
       "0.9628571428571429"
      ]
     },
     "execution_count": 13,
     "metadata": {},
     "output_type": "execute_result"
    }
   ],
   "source": [
    "my_clf.score(X_test, y_test)"
   ]
  },
  {
   "cell_type": "markdown",
   "metadata": {},
   "source": [
    "Задание 5"
   ]
  },
  {
   "cell_type": "code",
   "execution_count": null,
   "metadata": {},
   "outputs": [],
   "source": [
    "# seaborn  -  библиотека, отснованная на matplotlib для визуализации данных в т.ч. многомерных\n",
    "# matplotlib  -  библиотека для построения графиков \n",
    "# train_test_split  -  разбитие данных на две части: тренировочную и тестовую\n",
    "# Pipelin%load_ext e (from sklearn.pipeline import Pipeline)  -  нужен для послежовательного преобразования данных\n",
    "# StandardScaler (from sklearn.preprocessing import StandardScaler)  -  преобразование данных таким образом, что\n",
    "#                                       распределение будет иметь среднее значение 0 и стандартное отклонение 1\n",
    "# ClassifierMixin  -  самый базовый класс для всех классификаторов sklearn\n",
    "# NeighborsBase  -  базовый класс для knn\n",
    "# KNeighborsMixin  -  базовый класс для knn, содаржащий поиск соседей\n",
    "# SupervisedIntegerMixin  -  базовый класс, содержащий метод fit"
   ]
  }
 ],
 "metadata": {
  "kernelspec": {
   "display_name": "Python 3",
   "language": "python",
   "name": "python3"
  },
  "language_info": {
   "codemirror_mode": {
    "name": "ipython",
    "version": 3
   },
   "file_extension": ".py",
   "mimetype": "text/x-python",
   "name": "python",
   "nbconvert_exporter": "python",
   "pygments_lexer": "ipython3",
   "version": "3.6.5"
  }
 },
 "nbformat": 4,
 "nbformat_minor": 2
}
